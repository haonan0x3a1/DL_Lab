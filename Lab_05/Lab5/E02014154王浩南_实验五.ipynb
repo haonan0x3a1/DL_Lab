{
 "cells": [
  {
   "attachments": {},
   "cell_type": "markdown",
   "id": "4bcadfbf",
   "metadata": {},
   "source": [
    "# 深度学习实验五:循环神经网络编程\n",
    "\n",
    "本次实验练习使用torch.nn中的类设计一个循环神经网络进行MNIST图像分类。\n",
    "\n",
    "在本次实验中，你要设计一个CNN，用于将$28 \\times 28$的MNIST图像转换为$M\\times M\\times D$的特征图，将该特征图看作是一个长度为$M\\times M$的特征序列，序列中每一个特征向量的大小为$D$，然后使用RNN对该序列分类。"
   ]
  },
  {
   "cell_type": "code",
   "execution_count": 247,
   "id": "bed71e9c",
   "metadata": {},
   "outputs": [
    {
     "name": "stdout",
     "output_type": "stream",
     "text": [
      "姓名:王浩南, 学号:E02014154\n"
     ]
    }
   ],
   "source": [
    "name = '王浩南'#填写你的姓名\n",
    "sid = 'E02014154'#填写你的学号\n",
    "\n",
    "print('姓名:%s, 学号:%s'%(name, sid))"
   ]
  },
  {
   "cell_type": "code",
   "execution_count": 248,
   "id": "76965a97",
   "metadata": {},
   "outputs": [],
   "source": [
    "import torch\n",
    "import torch.nn as nn\n",
    "import torch.nn.functional as F\n",
    "import torch.optim as optim\n",
    "import numpy as np\n",
    "import matplotlib.pyplot as plt"
   ]
  },
  {
   "cell_type": "markdown",
   "id": "7b3a08b5",
   "metadata": {},
   "source": [
    "# 1. 准备数据"
   ]
  },
  {
   "cell_type": "code",
   "execution_count": 249,
   "id": "47b7da1a",
   "metadata": {},
   "outputs": [],
   "source": [
    "from torchvision import datasets,transforms"
   ]
  },
  {
   "cell_type": "code",
   "execution_count": 250,
   "id": "97083355",
   "metadata": {},
   "outputs": [],
   "source": [
    "#定义变换\n",
    "#一行代码，提示:transforms.Compose()函数\n",
    "transform = transforms.Compose([\n",
    "    transforms.ToTensor(),\n",
    "    transforms.Normalize((0.5,), (0.5,))\n",
    "])"
   ]
  },
  {
   "cell_type": "code",
   "execution_count": 251,
   "id": "c33d7eb3",
   "metadata": {},
   "outputs": [],
   "source": [
    "data_path = '../data/'\n",
    "MNIST_train = datasets.MNIST(data_path,download=True,train = True,transform = transform)\n",
    "MNIST_test =  datasets.MNIST(data_path,download=True,train = False,transform = transform)"
   ]
  },
  {
   "cell_type": "code",
   "execution_count": 252,
   "id": "55ffeee2",
   "metadata": {},
   "outputs": [
    {
     "data": {
      "text/plain": [
       "Dataset MNIST\n",
       "    Number of datapoints: 60000\n",
       "    Root location: ../data/\n",
       "    Split: Train\n",
       "    StandardTransform\n",
       "Transform: Compose(\n",
       "               ToTensor()\n",
       "               Normalize(mean=(0.5,), std=(0.5,))\n",
       "           )"
      ]
     },
     "execution_count": 252,
     "metadata": {},
     "output_type": "execute_result"
    }
   ],
   "source": [
    "MNIST_train"
   ]
  },
  {
   "cell_type": "code",
   "execution_count": 253,
   "id": "0f647562",
   "metadata": {},
   "outputs": [
    {
     "data": {
      "image/png": "[encoded data removed]",
      "text/plain": [
       "<Figure size 1152x720 with 8 Axes>"
      ]
     },
     "metadata": {
      "needs_background": "light"
     },
     "output_type": "display_data"
    }
   ],
   "source": [
    "#显示图像样本\n",
    "cifar10_iter = iter(MNIST_train)\n",
    "plt.figure(figsize = [16,10])\n",
    "for i in range(8):\n",
    "    im,label = next(cifar10_iter)\n",
    "    im = (im.permute((1,2,0))+1)/2\n",
    "    plt.subplot(1,8,i+1)\n",
    "    plt.imshow(im)\n",
    "    plt.title('label = %d'%(label))\n",
    "    plt.axis('off')\n",
    "    \n",
    "plt.show()"
   ]
  },
  {
   "cell_type": "markdown",
   "id": "195ea40e",
   "metadata": {},
   "source": [
    "# 2. 设计CNN类\n",
    "\n",
    "从torch.nn.Module派生一个子类CNN，表示一个卷积神经网络;用于将 MNIST 图像转换为一个𝑀×𝑀×𝐷 的特征图"
   ]
  },
  {
   "cell_type": "code",
   "execution_count": 254,
   "id": "7c4f906a",
   "metadata": {},
   "outputs": [],
   "source": [
    "#在下面添加代码，实现一个CNN,用于提取图像特征\n",
    "class CNN(nn.Module):\n",
    "    def __init__(self):\n",
    "        super(CNN, self).__init__()\n",
    "        \n",
    "        # 定义卷积层1，输入通道数为1，输出通道数为16，卷积核大小为3x3\n",
    "        self.conv1 = nn.Conv2d(in_channels=1, out_channels=16, kernel_size=3)\n",
    "        # 定义批量归一化层1\n",
    "        self.bn1 = nn.BatchNorm2d(num_features=16)\n",
    "        # 定义激活函数\n",
    "        self.act1 = nn.ReLU()\n",
    "        # 定义池化层1，池化核大小为2x2\n",
    "        self.pool1 = nn.MaxPool2d(kernel_size=2)\n",
    "        \n",
    "        # 定义卷积层2，输入通道数为16，输出通道数为32，卷积核大小为3x3\n",
    "        self.conv2 = nn.Conv2d(in_channels=16, out_channels=32, kernel_size=3)\n",
    "        # 定义批量归一化层2\n",
    "        self.bn2 = nn.BatchNorm2d(num_features=32)\n",
    "        # 定义激活函数\n",
    "        self.act2 = nn.ReLU()\n",
    "        # 定义池化层2，池化核大小为2x2\n",
    "        self.pool2 = nn.MaxPool2d(kernel_size=2)\n",
    "        \n",
    "        # 定义跳跃连接\n",
    "        self.residual = nn.Sequential(\n",
    "            # 定义卷积层3，输入通道数为32，输出通道数为32，卷积核大小为3x3\n",
    "            nn.Conv2d(in_channels=32, out_channels=32, kernel_size=3),\n",
    "            # 定        nn.BatchNorm2d(num_features=32),\n",
    "            nn.ReLU(),\n",
    "            # 定义卷积层4，输入通道数为32，输出通道数为32，卷积核大小为3x3\n",
    "            nn.Conv2d(in_channels=32, out_channels=32, kernel_size=3),\n",
    "            nn.BatchNorm2d(num_features=32)\n",
    "        )\n",
    "    \n",
    "        # 定义全连接层1\n",
    "        self.fc1 = nn.Linear(in_features=8*10*10, out_features=64)\n",
    "        # 定义全连接层2，输入神经元数为64，输出神经元数为10（因为MNIST数据集的输出类别为10个数字）\n",
    "        self.fc2 = nn.Linear(in_features=64, out_features=10)\n",
    "    \n",
    "    def forward(self, x):\n",
    "        # 前向传播流程\n",
    "        x = self.conv1(x)\n",
    "        x = self.bn1(x)\n",
    "        x = self.act1(x)\n",
    "        x = self.pool1(x)\n",
    "        \n",
    "        x = self.conv2(x)\n",
    "        x = self.bn2(x)\n",
    "        x = self.act2(x)\n",
    "        x = self.pool2(x)\n",
    "        \n",
    "        # 跳跃连接的前向传播\n",
    "        residual = self.residual(x)\n",
    "        # 将输入x与跳跃连接的输出相加\n",
    "        x = x + residual\n",
    "        \n",
    "        # 将二维特征图展平成一维向量\n",
    "        x = x.view(x.size(0), -1)\n",
    "        x = self.fc1(x)\n",
    "        x = self.fc2(x)\n",
    "        \n",
    "        return x"
   ]
  },
  {
   "cell_type": "code",
   "execution_count": 255,
   "id": "c3558860",
   "metadata": {},
   "outputs": [
    {
     "name": "stdout",
     "output_type": "stream",
     "text": [
      "torch.Size([5, 10])\n"
     ]
    }
   ],
   "source": [
    "#测试CNN类\n",
    "X = torch.rand((5,1,28,28),dtype = torch.float32)\n",
    "net = CNN()\n",
    "Y = net(X)\n",
    "print(Y.shape)"
   ]
  },
  {
   "cell_type": "code",
   "execution_count": 256,
   "id": "778fdcb1",
   "metadata": {},
   "outputs": [
    {
     "name": "stdout",
     "output_type": "stream",
     "text": [
      "CNN(\n",
      "  (conv1): Conv2d(1, 16, kernel_size=(3, 3), stride=(1, 1))\n",
      "  (bn1): BatchNorm2d(16, eps=1e-05, momentum=0.1, affine=True, track_running_stats=True)\n",
      "  (act1): ReLU()\n",
      "  (pool1): MaxPool2d(kernel_size=2, stride=2, padding=0, dilation=1, ceil_mode=False)\n",
      "  (conv2): Conv2d(16, 32, kernel_size=(3, 3), stride=(1, 1))\n",
      "  (bn2): BatchNorm2d(32, eps=1e-05, momentum=0.1, affine=True, track_running_stats=True)\n",
      "  (act2): ReLU()\n",
      "  (pool2): MaxPool2d(kernel_size=2, stride=2, padding=0, dilation=1, ceil_mode=False)\n",
      "  (residual): Sequential(\n",
      "    (0): Conv2d(32, 32, kernel_size=(3, 3), stride=(1, 1))\n",
      "    (1): ReLU()\n",
      "    (2): Conv2d(32, 32, kernel_size=(3, 3), stride=(1, 1))\n",
      "    (3): BatchNorm2d(32, eps=1e-05, momentum=0.1, affine=True, track_running_stats=True)\n",
      "  )\n",
      "  (fc1): Linear(in_features=800, out_features=64, bias=True)\n",
      "  (fc2): Linear(in_features=64, out_features=10, bias=True)\n",
      ")\n"
     ]
    }
   ],
   "source": [
    "#输出模型\n",
    "print(net)"
   ]
  },
  {
   "cell_type": "code",
   "execution_count": 257,
   "id": "191e22f5",
   "metadata": {},
   "outputs": [
    {
     "name": "stdout",
     "output_type": "stream",
     "text": [
      "Looking in indexes: https://pypi.tuna.tsinghua.edu.cn/simple\n",
      "Requirement already satisfied: torchsummary in d:\\anaconda\\envs\\my_torch\\lib\\site-packages (1.5.1)\n",
      "Note: you may need to restart the kernel to use updated packages.\n"
     ]
    }
   ],
   "source": [
    "%pip install -i https://pypi.tuna.tsinghua.edu.cn/simple torchsummary"
   ]
  },
  {
   "cell_type": "code",
   "execution_count": 258,
   "id": "d0e1fd0e",
   "metadata": {},
   "outputs": [
    {
     "name": "stdout",
     "output_type": "stream",
     "text": [
      "----------------------------------------------------------------\n",
      "        Layer (type)               Output Shape         Param #\n",
      "================================================================\n",
      "            Conv2d-1           [-1, 16, 26, 26]             160\n",
      "       BatchNorm2d-2           [-1, 16, 26, 26]              32\n",
      "              ReLU-3           [-1, 16, 26, 26]               0\n",
      "         MaxPool2d-4           [-1, 16, 13, 13]               0\n",
      "            Conv2d-5           [-1, 32, 11, 11]           4,640\n",
      "       BatchNorm2d-6           [-1, 32, 11, 11]              64\n",
      "              ReLU-7           [-1, 32, 11, 11]               0\n",
      "         MaxPool2d-8             [-1, 32, 5, 5]               0\n",
      "            Conv2d-9             [-1, 32, 3, 3]           9,248\n",
      "             ReLU-10             [-1, 32, 3, 3]               0\n",
      "           Conv2d-11             [-1, 32, 1, 1]           9,248\n",
      "      BatchNorm2d-12             [-1, 32, 1, 1]              64\n",
      "           Linear-13                   [-1, 64]          51,264\n",
      "           Linear-14                   [-1, 10]             650\n",
      "================================================================\n",
      "Total params: 75,370\n",
      "Trainable params: 75,370\n",
      "Non-trainable params: 0\n",
      "----------------------------------------------------------------\n",
      "Input size (MB): 0.00\n",
      "Forward/backward pass size (MB): 0.37\n",
      "Params size (MB): 0.29\n",
      "Estimated Total Size (MB): 0.66\n",
      "----------------------------------------------------------------\n"
     ]
    }
   ],
   "source": [
    "from torchsummary import summary\n",
    "\n",
    "summary(net.cuda(), input_size = (1,28,28))"
   ]
  },
  {
   "cell_type": "markdown",
   "id": "ff0bf808",
   "metadata": {},
   "source": [
    "# 3. 设计分类模型\n",
    "\n",
    "在分类模型中，使用上面定义的CNN作为特征提取器，用LSTM循环网络构造分类器。你的模型中应该包含一个CNN和一个RNN。\n"
   ]
  },
  {
   "cell_type": "code",
   "execution_count": 259,
   "id": "06e50fe5",
   "metadata": {},
   "outputs": [],
   "source": [
    "#在下面添加代码，实现一个Classifier类，用CNN和LSTM循环网络构造分类器\n",
    "class Classifier(nn.Module):\n",
    "    def __init__(self, input_size, hidden_size, num_layers, num_classes):\n",
    "        super(Classifier, self).__init__()\n",
    "        self.cnn = CNN()\n",
    "        self.rnn = nn.LSTM(input_size, hidden_size, num_layers, batch_first=True)\n",
    "        self.fc = nn.Linear(hidden_size, num_classes)\n",
    "\n",
    "    def forward(self, x):\n",
    "        out = self.cnn(x)\n",
    "        out = out.view(out.size(0), -1, out.size(1))\n",
    "        out, _ = self.rnn(out)\n",
    "        out = self.fc(out[:, -1, :])\n",
    "        return out"
   ]
  },
  {
   "cell_type": "code",
   "execution_count": 260,
   "id": "4c130813",
   "metadata": {},
   "outputs": [
    {
     "name": "stdout",
     "output_type": "stream",
     "text": [
      "torch.Size([5, 10])\n"
     ]
    }
   ],
   "source": [
    "#测试上面的类\n",
    "model = Classifier(input_size=10, hidden_size=128, num_layers=1, num_classes=10)#一行代码\n",
    "X = torch.randn(5,1,28,28)\n",
    "Y = model(X)\n",
    "print(Y.shape)"
   ]
  },
  {
   "cell_type": "markdown",
   "id": "c05a0a95",
   "metadata": {},
   "source": [
    "# 4.训练模型"
   ]
  },
  {
   "cell_type": "markdown",
   "id": "c3bc299c",
   "metadata": {},
   "source": [
    "# 4.1 第一步，构造加载器，用于加载上面定义的数据集"
   ]
  },
  {
   "cell_type": "code",
   "execution_count": 261,
   "id": "cc2be185",
   "metadata": {},
   "outputs": [],
   "source": [
    "train_loader = torch.utils.data.DataLoader(MNIST_train, batch_size = 32, shuffle = True)\n",
    "test_loader = torch.utils.data.DataLoader(MNIST_test, batch_size = 32, shuffle = False)"
   ]
  },
  {
   "cell_type": "code",
   "execution_count": 262,
   "id": "365b95a4",
   "metadata": {},
   "outputs": [],
   "source": [
    "imgs,labels = next(iter(train_loader))"
   ]
  },
  {
   "cell_type": "code",
   "execution_count": 263,
   "id": "b12e1272",
   "metadata": {},
   "outputs": [
    {
     "data": {
      "text/plain": [
       "torch.Size([32, 1, 28, 28])"
      ]
     },
     "execution_count": 263,
     "metadata": {},
     "output_type": "execute_result"
    }
   ],
   "source": [
    "imgs.shape"
   ]
  },
  {
   "cell_type": "code",
   "execution_count": 264,
   "id": "0f97bf9f",
   "metadata": {},
   "outputs": [
    {
     "data": {
      "text/plain": [
       "torch.Size([32])"
      ]
     },
     "execution_count": 264,
     "metadata": {},
     "output_type": "execute_result"
    }
   ],
   "source": [
    "labels.shape"
   ]
  },
  {
   "cell_type": "markdown",
   "id": "e83cab93",
   "metadata": {},
   "source": [
    "# 4.2 第二步，训练模型\n",
    "\n",
    "注意：训练卷积神经网络时，网络的输入是四维张量，尺寸为$N\\times C \\times H \\times W$，分别表示张量"
   ]
  },
  {
   "cell_type": "code",
   "execution_count": 265,
   "id": "3d2d6f90",
   "metadata": {},
   "outputs": [],
   "source": [
    "#添加代码，完成下面的训练函数\n",
    "def Train(model, loader, epochs, lr = 0.1):\n",
    "    '''\n",
    "    model:模型对象\n",
    "    loader:数据加载器   \n",
    "    '''\n",
    "    epsilon = 1e-6\n",
    "\n",
    "    #将model置于train模式\n",
    "    net.train()\n",
    "\n",
    "    #定义合适的优化器\n",
    "    optimizer = optim.SGD(model.parameters(), lr=0.01, momentum=0.5)\n",
    "    \n",
    "    #定义损失函数\n",
    "    loss = F.cross_entropy\n",
    "    \n",
    "    #请在下面完成训练代码\n",
    "    #请在迭代过程中每100次迭代，输出一次损失\n",
    "    loss0 = 0\n",
    "    for epoch in range(epochs):\n",
    "        for it,(imgs, labels) in enumerate(loader):\n",
    "            #1. zero_grads\n",
    "            #请用一行代码实现\n",
    "            optimizer.zero_grad()\n",
    "            imgs, labels = imgs.cuda(), labels.cuda()\n",
    "\n",
    "            #2. F.P.前向传播\n",
    "            #请用一行代码实现\n",
    "            logits = model(imgs)\n",
    "\n",
    "            #3. 计算损失            \n",
    "            loss1 = loss(logits, labels)\n",
    "            \n",
    "            if(abs(loss1.item() - loss0)<epsilon):\n",
    "                break\n",
    "                \n",
    "            loss0 = loss1.item()\n",
    "                \n",
    "            if it%100==0:\n",
    "                print('epoch %d, iter %d, loss = %f\\n'%(epoch,it,loss1.item()))\n",
    "                \n",
    "            #4. 后向传播\n",
    "            #请用一行代码实现\n",
    "            loss1.backward()\n",
    "            \n",
    "            #5. 梯度下降\n",
    "            #请用一行代码实现.\n",
    "            optimizer.step()    \n",
    "    return model          \n"
   ]
  },
  {
   "cell_type": "code",
   "execution_count": 266,
   "id": "309b7f8e",
   "metadata": {},
   "outputs": [
    {
     "name": "stdout",
     "output_type": "stream",
     "text": [
      "epoch 0, iter 0, loss = 2.316965\n",
      "\n",
      "epoch 0, iter 100, loss = 2.262871\n",
      "\n",
      "epoch 0, iter 200, loss = 2.078416\n",
      "\n",
      "epoch 0, iter 300, loss = 1.565925\n",
      "\n",
      "epoch 1, iter 0, loss = 1.455163\n",
      "\n",
      "epoch 1, iter 100, loss = 0.905373\n",
      "\n",
      "epoch 1, iter 200, loss = 0.495477\n",
      "\n",
      "epoch 1, iter 300, loss = 0.312206\n",
      "\n",
      "epoch 2, iter 0, loss = 0.408765\n",
      "\n",
      "epoch 2, iter 100, loss = 0.503093\n",
      "\n",
      "epoch 2, iter 200, loss = 0.128072\n",
      "\n",
      "epoch 2, iter 300, loss = 0.092336\n",
      "\n",
      "epoch 3, iter 0, loss = 0.177374\n",
      "\n",
      "epoch 3, iter 100, loss = 0.327589\n",
      "\n",
      "epoch 3, iter 200, loss = 0.069116\n",
      "\n",
      "epoch 3, iter 300, loss = 0.046908\n",
      "\n",
      "epoch 4, iter 0, loss = 0.190766\n",
      "\n",
      "epoch 4, iter 100, loss = 0.159573\n",
      "\n",
      "epoch 4, iter 200, loss = 0.049512\n",
      "\n",
      "epoch 4, iter 300, loss = 0.079523\n",
      "\n",
      "epoch 5, iter 0, loss = 0.137959\n",
      "\n",
      "epoch 5, iter 100, loss = 0.166230\n",
      "\n",
      "epoch 5, iter 200, loss = 0.071486\n",
      "\n",
      "epoch 5, iter 300, loss = 0.019617\n",
      "\n",
      "epoch 6, iter 0, loss = 0.048092\n",
      "\n",
      "epoch 6, iter 100, loss = 0.127029\n",
      "\n",
      "epoch 6, iter 200, loss = 0.044633\n",
      "\n",
      "epoch 6, iter 300, loss = 0.013822\n",
      "\n",
      "epoch 7, iter 0, loss = 0.032990\n",
      "\n",
      "epoch 7, iter 100, loss = 0.081889\n",
      "\n",
      "epoch 7, iter 200, loss = 0.057443\n",
      "\n",
      "epoch 7, iter 300, loss = 0.010928\n",
      "\n",
      "epoch 8, iter 0, loss = 0.049648\n",
      "\n",
      "epoch 8, iter 100, loss = 0.111657\n",
      "\n",
      "epoch 8, iter 200, loss = 0.015471\n",
      "\n",
      "epoch 8, iter 300, loss = 0.009406\n",
      "\n",
      "epoch 9, iter 0, loss = 0.016885\n",
      "\n",
      "epoch 9, iter 100, loss = 0.033069\n",
      "\n",
      "epoch 9, iter 200, loss = 0.021819\n",
      "\n",
      "epoch 9, iter 300, loss = 0.007006\n",
      "\n",
      "epoch 10, iter 0, loss = 0.013893\n",
      "\n",
      "epoch 10, iter 100, loss = 0.018651\n",
      "\n",
      "epoch 10, iter 200, loss = 0.011901\n",
      "\n",
      "epoch 10, iter 300, loss = 0.005831\n",
      "\n",
      "epoch 11, iter 0, loss = 0.007819\n",
      "\n",
      "epoch 11, iter 100, loss = 0.012655\n",
      "\n",
      "epoch 11, iter 200, loss = 0.008540\n",
      "\n",
      "epoch 12, iter 0, loss = 0.005064\n",
      "\n",
      "epoch 12, iter 100, loss = 0.018824\n",
      "\n",
      "epoch 12, iter 200, loss = 0.020143\n",
      "\n",
      "epoch 12, iter 300, loss = 0.004305\n",
      "\n",
      "epoch 13, iter 0, loss = 0.008761\n",
      "\n",
      "epoch 13, iter 100, loss = 0.007519\n",
      "\n",
      "epoch 13, iter 200, loss = 0.006889\n",
      "\n",
      "epoch 13, iter 300, loss = 0.003978\n",
      "\n",
      "epoch 14, iter 0, loss = 0.004463\n",
      "\n",
      "epoch 14, iter 100, loss = 0.061032\n",
      "\n",
      "epoch 14, iter 200, loss = 0.008327\n",
      "\n",
      "epoch 14, iter 300, loss = 0.004208\n",
      "\n",
      "epoch 15, iter 0, loss = 0.004224\n",
      "\n",
      "epoch 15, iter 100, loss = 0.017112\n",
      "\n",
      "epoch 16, iter 0, loss = 0.014826\n",
      "\n",
      "epoch 16, iter 100, loss = 0.009353\n",
      "\n",
      "epoch 16, iter 200, loss = 0.008381\n",
      "\n",
      "epoch 16, iter 300, loss = 0.004296\n",
      "\n",
      "epoch 17, iter 0, loss = 0.005099\n",
      "\n",
      "epoch 17, iter 100, loss = 0.042901\n",
      "\n",
      "epoch 17, iter 200, loss = 0.028699\n",
      "\n",
      "epoch 17, iter 300, loss = 0.003315\n",
      "\n",
      "epoch 18, iter 0, loss = 0.003905\n",
      "\n",
      "epoch 18, iter 100, loss = 0.004819\n",
      "\n",
      "epoch 18, iter 200, loss = 0.006236\n",
      "\n",
      "epoch 18, iter 300, loss = 0.002814\n",
      "\n",
      "epoch 19, iter 0, loss = 0.002434\n",
      "\n",
      "epoch 19, iter 100, loss = 0.003649\n",
      "\n",
      "epoch 19, iter 200, loss = 0.003342\n",
      "\n",
      "epoch 19, iter 300, loss = 0.002817\n",
      "\n"
     ]
    }
   ],
   "source": [
    "#构造并训练模型\n",
    "model = Classifier(input_size=10, hidden_size=128, num_layers=1, num_classes=10)\n",
    "model = model.cuda()\n",
    "model = Train(model, test_loader, 20)"
   ]
  },
  {
   "cell_type": "markdown",
   "id": "c952715b",
   "metadata": {},
   "source": [
    "# 4.3 第三步，测试模型"
   ]
  },
  {
   "cell_type": "code",
   "execution_count": 267,
   "id": "6dd24d32",
   "metadata": {},
   "outputs": [],
   "source": [
    "#编写模型测试过程\n",
    "def Evaluate(model, loader):\n",
    "    model.eval()\n",
    "    correct = 0\n",
    "    counts = 0\n",
    "    for imgs, labels in loader:\n",
    "        imgs, labels = imgs.cuda(), labels.cuda()\n",
    "        logits = model(imgs)\n",
    "        yhat = logits.argmax(dim = 1)\n",
    "        correct = correct + (yhat==labels).sum().item()\n",
    "        counts = counts + imgs.size(0)\n",
    "    \n",
    "    accuracy = correct / counts\n",
    "    \n",
    "    return accuracy"
   ]
  },
  {
   "cell_type": "code",
   "execution_count": 268,
   "id": "00a5d299",
   "metadata": {},
   "outputs": [
    {
     "name": "stdout",
     "output_type": "stream",
     "text": [
      "Accuracy = 0.997\n"
     ]
    }
   ],
   "source": [
    "acc = Evaluate(model,test_loader)\n",
    "print('Accuracy = %0.3f'%(acc))"
   ]
  },
  {
   "cell_type": "code",
   "execution_count": 269,
   "id": "9d12f859",
   "metadata": {},
   "outputs": [
    {
     "data": {
      "image/png": "[encoded data removed]",
      "text/plain": [
       "<Figure size 1152x720 with 32 Axes>"
      ]
     },
     "metadata": {
      "needs_background": "light"
     },
     "output_type": "display_data"
    }
   ],
   "source": [
    "imgs,labels  = next(iter(test_loader))\n",
    "imgs, labels = imgs.cuda(), labels.cuda()\n",
    "\n",
    "logits = model(imgs)\n",
    "\n",
    "imgs, labels = imgs.cpu(), labels.cpu()\n",
    "\n",
    "yhat = logits.argmax(dim = 1)\n",
    "\n",
    "plt.figure(figsize = (16,10))\n",
    "for i in range(imgs.size(0)):\n",
    "    plt.subplot(4,8,i+1)\n",
    "    plt.imshow(imgs[i].squeeze()/2+0.5,cmap = 'gray')\n",
    "    plt.axis('off')\n",
    "    plt.title('GT=%d, Pred = %d'%(labels[i],yhat[i]))\n",
    "    \n",
    "plt.show()"
   ]
  }
 ],
 "metadata": {
  "kernelspec": {
   "display_name": "My_Torch",
   "language": "python",
   "name": "python3"
  },
  "language_info": {
   "codemirror_mode": {
    "name": "ipython",
    "version": 3
   },
   "file_extension": ".py",
   "mimetype": "text/x-python",
   "name": "python",
   "nbconvert_exporter": "python",
   "pygments_lexer": "ipython3",
   "version": "3.9.15 (main, Nov  4 2022, 16:35:55) [MSC v.1916 64 bit (AMD64)]"
  },
  "vscode": {
   "interpreter": {
    "hash": "3bb1b9170a30f8b8b3f43303ab1db72cc75c30a263a3ca258880608906b0fbee"
   }
  }
 },
 "nbformat": 4,
 "nbformat_minor": 5
}
