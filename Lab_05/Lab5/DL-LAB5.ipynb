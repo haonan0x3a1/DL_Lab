{
 "cells": [
  {
   "attachments": {},
   "cell_type": "markdown",
   "id": "4bcadfbf",
   "metadata": {},
   "source": [
    "# 深度学习实验五:循环神经网络编程\n",
    "\n",
    "本次实验练习使用torch.nn中的类设计一个循环神经网络进行MNIST图像分类。\n",
    "\n",
    "在本次实验中，你要设计一个CNN，用于将$28 \\times 28$的MNIST图像转换为$M\\times M\\times D$的特征图，将该特征图看作是一个长度为$M\\times M$的特征序列，序列中每一个特征向量的大小为$D$，然后使用RNN对该序列分类。"
   ]
  },
  {
   "cell_type": "code",
   "execution_count": 1,
   "id": "bed71e9c",
   "metadata": {},
   "outputs": [
    {
     "name": "stdout",
     "output_type": "stream",
     "text": [
      "姓名:Bill, 学号:E1200009\n"
     ]
    }
   ],
   "source": [
    "name = '王浩南'#填写你的姓名\n",
    "sid = 'E02014154'#填写你的学号\n",
    "\n",
    "print('姓名:%s, 学号:%s'%(name, sid))"
   ]
  },
  {
   "cell_type": "code",
   "execution_count": 2,
   "id": "76965a97",
   "metadata": {},
   "outputs": [],
   "source": [
    "import torch\n",
    "import torch.nn as nn\n",
    "import torch.nn.functional as F\n",
    "import torch.optim as optim\n",
    "import numpy as np\n",
    "import matplotlib.pyplot as plt"
   ]
  },
  {
   "cell_type": "markdown",
   "id": "7b3a08b5",
   "metadata": {},
   "source": [
    "# 1. 准备数据"
   ]
  },
  {
   "cell_type": "code",
   "execution_count": 3,
   "id": "47b7da1a",
   "metadata": {},
   "outputs": [],
   "source": [
    "from torchvision import datasets,transforms"
   ]
  },
  {
   "cell_type": "code",
   "execution_count": null,
   "id": "97083355",
   "metadata": {},
   "outputs": [],
   "source": [
    "#定义变换\n",
    "#一行代码，提示:transforms.Compose()函数\n",
    "transform = "
   ]
  },
  {
   "cell_type": "code",
   "execution_count": null,
   "id": "c33d7eb3",
   "metadata": {},
   "outputs": [],
   "source": [
    "data_path = '../data/'\n",
    "cifar10_train = datasets.MNIST(data_path,download=True,train = True,transform = transform)\n",
    "cifar10_test =  datasets.MNIST(data_path,download=True,train = False,transform = transform)"
   ]
  },
  {
   "cell_type": "code",
   "execution_count": null,
   "id": "55ffeee2",
   "metadata": {},
   "outputs": [],
   "source": [
    "cifar10_train\n"
   ]
  },
  {
   "cell_type": "code",
   "execution_count": null,
   "id": "0f647562",
   "metadata": {},
   "outputs": [],
   "source": [
    "#显示图像样本\n",
    "cifar10_iter = iter(cifar10_train)\n",
    "plt.figure(figsize = [16,10])\n",
    "for i in range(8):\n",
    "    im,label = next(cifar10_iter)\n",
    "    im = (im.permute((1,2,0))+1)/2\n",
    "    plt.subplot(1,8,i+1)\n",
    "    plt.imshow(im)\n",
    "    plt.title('label = %d'%(label))\n",
    "    plt.axis('off')\n",
    "    \n",
    "plt.show()"
   ]
  },
  {
   "cell_type": "markdown",
   "id": "195ea40e",
   "metadata": {},
   "source": [
    "# 2. 设计CNN类\n",
    "\n",
    "从torch.nn.Module派生一个子类CNN，表示一个卷积神经网络;用于将 MNIST 图像转换为一个𝑀×𝑀×𝐷 的特征图"
   ]
  },
  {
   "cell_type": "code",
   "execution_count": null,
   "id": "7c4f906a",
   "metadata": {},
   "outputs": [],
   "source": [
    "#在下面添加代码，实现一个CNN,用于提取图像特征\n",
    "class CNN(torch.nn.Module):\n",
    "\n",
    "    \n",
    "    \n",
    "    "
   ]
  },
  {
   "cell_type": "code",
   "execution_count": null,
   "id": "c3558860",
   "metadata": {},
   "outputs": [],
   "source": [
    "#测试CNN类\n",
    "X = torch.rand((5,1,28,28),dtype = torch.float32)\n",
    "net = CNN()\n",
    "Y = net(X)\n",
    "print(Y.shape)"
   ]
  },
  {
   "cell_type": "code",
   "execution_count": null,
   "id": "778fdcb1",
   "metadata": {},
   "outputs": [],
   "source": [
    "#输出模型\n",
    "print(net)"
   ]
  },
  {
   "cell_type": "code",
   "execution_count": null,
   "id": "191e22f5",
   "metadata": {},
   "outputs": [],
   "source": [
    "!pip install -i https://pypi.tuna.tsinghua.edu.cn/simple torchsummary"
   ]
  },
  {
   "cell_type": "code",
   "execution_count": null,
   "id": "d0e1fd0e",
   "metadata": {},
   "outputs": [],
   "source": [
    "from torchsummary import summary\n",
    "\n",
    "summary(net, input_size = (1,28,28))"
   ]
  },
  {
   "cell_type": "markdown",
   "id": "ff0bf808",
   "metadata": {},
   "source": [
    "# 3. 设计分类模型\n",
    "\n",
    "在分类模型中，使用上面定义的CNN作为特征提取器，用LSTM循环网络构造分类器。你的模型中应该包含一个CNN和一个RNN。\n"
   ]
  },
  {
   "cell_type": "code",
   "execution_count": null,
   "id": "06e50fe5",
   "metadata": {},
   "outputs": [],
   "source": [
    "#在下面添加代码，实现一个Classifier类，用CNN和LSTM循环网络构造分类器\n",
    "class Classifier(nn.Module):\n",
    "\n",
    "    \n",
    "    \n",
    "    "
   ]
  },
  {
   "cell_type": "code",
   "execution_count": null,
   "id": "4c130813",
   "metadata": {},
   "outputs": [],
   "source": [
    "#测试上面的类\n",
    "model = #一行代码\n",
    "X = torch.randn(5,1,28,28)\n",
    "Y = model(X)\n",
    "print(Y.shape)"
   ]
  },
  {
   "cell_type": "markdown",
   "id": "c05a0a95",
   "metadata": {},
   "source": [
    "# 4.训练模型"
   ]
  },
  {
   "cell_type": "markdown",
   "id": "c3bc299c",
   "metadata": {},
   "source": [
    "# 4.1 第一步，构造加载器，用于加载上面定义的数据集"
   ]
  },
  {
   "cell_type": "code",
   "execution_count": null,
   "id": "cc2be185",
   "metadata": {},
   "outputs": [],
   "source": [
    "train_loader = torch.utils.data.DataLoader(cifar10_train, batch_size = 32, shuffle = True)\n",
    "test_loader = torch.utils.data.DataLoader(cifar10_test, batch_size = 32, shuffle = False)"
   ]
  },
  {
   "cell_type": "code",
   "execution_count": null,
   "id": "365b95a4",
   "metadata": {},
   "outputs": [],
   "source": [
    "imgs,labels = next(iter(train_loader))"
   ]
  },
  {
   "cell_type": "code",
   "execution_count": null,
   "id": "b12e1272",
   "metadata": {},
   "outputs": [],
   "source": [
    "imgs.shape"
   ]
  },
  {
   "cell_type": "code",
   "execution_count": null,
   "id": "0f97bf9f",
   "metadata": {},
   "outputs": [],
   "source": [
    "labels.shape"
   ]
  },
  {
   "cell_type": "markdown",
   "id": "e83cab93",
   "metadata": {},
   "source": [
    "# 4.2 第二步，训练模型\n",
    "\n",
    "注意：训练卷积神经网络时，网络的输入是四维张量，尺寸为$N\\times C \\times H \\times W$，分别表示张量"
   ]
  },
  {
   "cell_type": "code",
   "execution_count": null,
   "id": "3d2d6f90",
   "metadata": {},
   "outputs": [],
   "source": [
    "#添加代码，完成下面的训练函数\n",
    "def Train(model, loader, epochs, lr = 0.1):\n",
    "'''model:模型对象\n",
    "loader:数据加载器\n",
    "'''\n",
    "    "
   ]
  },
  {
   "cell_type": "code",
   "execution_count": null,
   "id": "309b7f8e",
   "metadata": {},
   "outputs": [],
   "source": [
    "#构造并训练模型\n",
    "model = Classifier(128)\n",
    "\n",
    "model = Train(model, test_loader, 10)"
   ]
  },
  {
   "cell_type": "markdown",
   "id": "c952715b",
   "metadata": {},
   "source": [
    "# 4.3 第三步，测试模型"
   ]
  },
  {
   "cell_type": "code",
   "execution_count": null,
   "id": "6dd24d32",
   "metadata": {},
   "outputs": [],
   "source": [
    "#编写模型测试过程\n",
    "def Evaluate(model, loader):\n",
    "\n",
    "    \n",
    "    return accuracy"
   ]
  },
  {
   "cell_type": "code",
   "execution_count": null,
   "id": "00a5d299",
   "metadata": {},
   "outputs": [],
   "source": [
    "acc = Evaluate(model,test_loader)\n",
    "print('Accuracy = %f'%(acc))"
   ]
  },
  {
   "cell_type": "code",
   "execution_count": null,
   "id": "9d12f859",
   "metadata": {},
   "outputs": [],
   "source": [
    "imgs,labels  = next(iter(test_loader))\n",
    "\n",
    "logits = model(imgs)\n",
    "yhat = logits.argmax(dim = 1)\n",
    "imgs = imgs.permute((0,2,3,1))\n",
    "plt.figure(figsize = (16,10))\n",
    "for i in range(imgs.size(0)):\n",
    "    plt.subplot(4,8,i+1)\n",
    "    plt.imshow(imgs[i]/2+0.5,cmap = 'gray')\n",
    "    plt.axis('off')\n",
    "    plt.title('GT=%d, Pred = %d'%(labels[i],yhat[i]))\n",
    "    \n",
    "plt.show()"
   ]
  }
 ],
 "metadata": {
  "kernelspec": {
   "display_name": "My_Torch",
   "language": "python",
   "name": "python3"
  },
  "language_info": {
   "codemirror_mode": {
    "name": "ipython",
    "version": 3
   },
   "file_extension": ".py",
   "mimetype": "text/x-python",
   "name": "python",
   "nbconvert_exporter": "python",
   "pygments_lexer": "ipython3",
   "version": "3.9.15 (main, Nov  4 2022, 16:35:55) [MSC v.1916 64 bit (AMD64)]"
  },
  "vscode": {
   "interpreter": {
    "hash": "3bb1b9170a30f8b8b3f43303ab1db72cc75c30a263a3ca258880608906b0fbee"
   }
  }
 },
 "nbformat": 4,
 "nbformat_minor": 5
}
