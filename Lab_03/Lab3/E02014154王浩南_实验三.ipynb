{
 "cells": [
  {
   "cell_type": "markdown",
   "id": "4bcadfbf",
   "metadata": {},
   "source": [
    "# 深度学习实验三:多层感知机编程\n",
    "\n",
    "本次实验练习使用torch.nn中的类设计一个多层感知机，并进行训练和测试。\n",
    "同时练习使用Dataset和Dataloader辅助Mini-Batch随机梯度下降法对模型进行训练。"
   ]
  },
  {
   "cell_type": "code",
   "execution_count": 1,
   "id": "bed71e9c",
   "metadata": {},
   "outputs": [
    {
     "name": "stdout",
     "output_type": "stream",
     "text": [
      "姓名:王浩南, 学号:E02014154\n"
     ]
    }
   ],
   "source": [
    "name = '王浩南'#填写你的姓名\n",
    "sid = 'E02014154'#填写你的学号\n",
    "\n",
    "print('姓名:%s, 学号:%s'%(name, sid))"
   ]
  },
  {
   "cell_type": "code",
   "execution_count": 2,
   "id": "76965a97",
   "metadata": {},
   "outputs": [],
   "source": [
    "import torch\n",
    "import torch.nn as nn\n",
    "import torch.nn.functional as F\n",
    "import torch.optim as optim\n",
    "import numpy as np\n",
    "import matplotlib.pyplot as plt"
   ]
  },
  {
   "cell_type": "markdown",
   "id": "7c930cb8",
   "metadata": {},
   "source": [
    "# 1. 准备数据集\n",
    "\n",
    "本实验使用MNIST数据集，并用dataloader加载器，从数据集中采样出小批量样本。"
   ]
  },
  {
   "cell_type": "code",
   "execution_count": 3,
   "id": "b4a07787",
   "metadata": {},
   "outputs": [],
   "source": [
    "from torchvision import datasets,transforms"
   ]
  },
  {
   "cell_type": "code",
   "execution_count": 4,
   "id": "07ea8c55",
   "metadata": {},
   "outputs": [],
   "source": [
    "data_path = '../data/'\n",
    "mnist_train = datasets.MNIST(data_path,download=False,train = True,transform = transforms.ToTensor())\n",
    "mnist_test =  datasets.MNIST(data_path,download=False,train = False,transform = transforms.ToTensor())"
   ]
  },
  {
   "cell_type": "code",
   "execution_count": 5,
   "id": "81706400",
   "metadata": {},
   "outputs": [
    {
     "data": {
      "text/plain": [
       "Dataset MNIST\n",
       "    Number of datapoints: 60000\n",
       "    Root location: ../data/\n",
       "    Split: Train\n",
       "    StandardTransform\n",
       "Transform: ToTensor()"
      ]
     },
     "execution_count": 5,
     "metadata": {},
     "output_type": "execute_result"
    }
   ],
   "source": [
    "#看一下mnist_train的内容\n",
    "mnist_train"
   ]
  },
  {
   "cell_type": "code",
   "execution_count": 6,
   "id": "19809bc8",
   "metadata": {},
   "outputs": [
    {
     "data": {
      "text/plain": [
       "60000"
      ]
     },
     "execution_count": 6,
     "metadata": {},
     "output_type": "execute_result"
    }
   ],
   "source": [
    "len(mnist_train)"
   ]
  },
  {
   "cell_type": "code",
   "execution_count": 7,
   "id": "6b107c54",
   "metadata": {},
   "outputs": [],
   "source": [
    "#为mnist_train 构造一个迭代器\n",
    "it_mnist_train = iter(mnist_train)"
   ]
  },
  {
   "cell_type": "code",
   "execution_count": 8,
   "id": "e5c79300",
   "metadata": {},
   "outputs": [
    {
     "data": {
      "text/plain": [
       "(tensor([[[0.0000, 0.0000, 0.0000, 0.0000, 0.0000, 0.0000, 0.0000, 0.0000,\n",
       "           0.0000, 0.0000, 0.0000, 0.0000, 0.0000, 0.0000, 0.0000, 0.0000,\n",
       "           0.0000, 0.0000, 0.0000, 0.0000, 0.0000, 0.0000, 0.0000, 0.0000,\n",
       "           0.0000, 0.0000, 0.0000, 0.0000],\n",
       "          [0.0000, 0.0000, 0.0000, 0.0000, 0.0000, 0.0000, 0.0000, 0.0000,\n",
       "           0.0000, 0.0000, 0.0000, 0.0000, 0.0000, 0.0000, 0.0000, 0.0000,\n",
       "           0.0000, 0.0000, 0.0000, 0.0000, 0.0000, 0.0000, 0.0000, 0.0000,\n",
       "           0.0000, 0.0000, 0.0000, 0.0000],\n",
       "          [0.0000, 0.0000, 0.0000, 0.0000, 0.0000, 0.0000, 0.0000, 0.0000,\n",
       "           0.0000, 0.0000, 0.0000, 0.0000, 0.0000, 0.0000, 0.0000, 0.0000,\n",
       "           0.0000, 0.0000, 0.0000, 0.0000, 0.0000, 0.0000, 0.0000, 0.0000,\n",
       "           0.0000, 0.0000, 0.0000, 0.0000],\n",
       "          [0.0000, 0.0000, 0.0000, 0.0000, 0.0000, 0.0000, 0.0000, 0.0000,\n",
       "           0.0000, 0.0000, 0.0000, 0.0000, 0.0000, 0.0000, 0.0000, 0.0000,\n",
       "           0.0000, 0.0000, 0.0000, 0.0000, 0.0000, 0.0000, 0.0000, 0.0000,\n",
       "           0.0000, 0.0000, 0.0000, 0.0000],\n",
       "          [0.0000, 0.0000, 0.0000, 0.0000, 0.0000, 0.0000, 0.0000, 0.0000,\n",
       "           0.0000, 0.0000, 0.0000, 0.0000, 0.0000, 0.0000, 0.0000, 0.0000,\n",
       "           0.0000, 0.0000, 0.0000, 0.0000, 0.0000, 0.0000, 0.0000, 0.0000,\n",
       "           0.0000, 0.0000, 0.0000, 0.0000],\n",
       "          [0.0000, 0.0000, 0.0000, 0.0000, 0.0000, 0.0000, 0.0000, 0.0000,\n",
       "           0.0000, 0.0000, 0.0000, 0.0000, 0.0118, 0.0706, 0.0706, 0.0706,\n",
       "           0.4941, 0.5333, 0.6863, 0.1020, 0.6510, 1.0000, 0.9686, 0.4980,\n",
       "           0.0000, 0.0000, 0.0000, 0.0000],\n",
       "          [0.0000, 0.0000, 0.0000, 0.0000, 0.0000, 0.0000, 0.0000, 0.0000,\n",
       "           0.1176, 0.1412, 0.3686, 0.6039, 0.6667, 0.9922, 0.9922, 0.9922,\n",
       "           0.9922, 0.9922, 0.8824, 0.6745, 0.9922, 0.9490, 0.7647, 0.2510,\n",
       "           0.0000, 0.0000, 0.0000, 0.0000],\n",
       "          [0.0000, 0.0000, 0.0000, 0.0000, 0.0000, 0.0000, 0.0000, 0.1922,\n",
       "           0.9333, 0.9922, 0.9922, 0.9922, 0.9922, 0.9922, 0.9922, 0.9922,\n",
       "           0.9922, 0.9843, 0.3647, 0.3216, 0.3216, 0.2196, 0.1529, 0.0000,\n",
       "           0.0000, 0.0000, 0.0000, 0.0000],\n",
       "          [0.0000, 0.0000, 0.0000, 0.0000, 0.0000, 0.0000, 0.0000, 0.0706,\n",
       "           0.8588, 0.9922, 0.9922, 0.9922, 0.9922, 0.9922, 0.7765, 0.7137,\n",
       "           0.9686, 0.9451, 0.0000, 0.0000, 0.0000, 0.0000, 0.0000, 0.0000,\n",
       "           0.0000, 0.0000, 0.0000, 0.0000],\n",
       "          [0.0000, 0.0000, 0.0000, 0.0000, 0.0000, 0.0000, 0.0000, 0.0000,\n",
       "           0.3137, 0.6118, 0.4196, 0.9922, 0.9922, 0.8039, 0.0431, 0.0000,\n",
       "           0.1686, 0.6039, 0.0000, 0.0000, 0.0000, 0.0000, 0.0000, 0.0000,\n",
       "           0.0000, 0.0000, 0.0000, 0.0000],\n",
       "          [0.0000, 0.0000, 0.0000, 0.0000, 0.0000, 0.0000, 0.0000, 0.0000,\n",
       "           0.0000, 0.0549, 0.0039, 0.6039, 0.9922, 0.3529, 0.0000, 0.0000,\n",
       "           0.0000, 0.0000, 0.0000, 0.0000, 0.0000, 0.0000, 0.0000, 0.0000,\n",
       "           0.0000, 0.0000, 0.0000, 0.0000],\n",
       "          [0.0000, 0.0000, 0.0000, 0.0000, 0.0000, 0.0000, 0.0000, 0.0000,\n",
       "           0.0000, 0.0000, 0.0000, 0.5451, 0.9922, 0.7451, 0.0078, 0.0000,\n",
       "           0.0000, 0.0000, 0.0000, 0.0000, 0.0000, 0.0000, 0.0000, 0.0000,\n",
       "           0.0000, 0.0000, 0.0000, 0.0000],\n",
       "          [0.0000, 0.0000, 0.0000, 0.0000, 0.0000, 0.0000, 0.0000, 0.0000,\n",
       "           0.0000, 0.0000, 0.0000, 0.0431, 0.7451, 0.9922, 0.2745, 0.0000,\n",
       "           0.0000, 0.0000, 0.0000, 0.0000, 0.0000, 0.0000, 0.0000, 0.0000,\n",
       "           0.0000, 0.0000, 0.0000, 0.0000],\n",
       "          [0.0000, 0.0000, 0.0000, 0.0000, 0.0000, 0.0000, 0.0000, 0.0000,\n",
       "           0.0000, 0.0000, 0.0000, 0.0000, 0.1373, 0.9451, 0.8824, 0.6275,\n",
       "           0.4235, 0.0039, 0.0000, 0.0000, 0.0000, 0.0000, 0.0000, 0.0000,\n",
       "           0.0000, 0.0000, 0.0000, 0.0000],\n",
       "          [0.0000, 0.0000, 0.0000, 0.0000, 0.0000, 0.0000, 0.0000, 0.0000,\n",
       "           0.0000, 0.0000, 0.0000, 0.0000, 0.0000, 0.3176, 0.9412, 0.9922,\n",
       "           0.9922, 0.4667, 0.0980, 0.0000, 0.0000, 0.0000, 0.0000, 0.0000,\n",
       "           0.0000, 0.0000, 0.0000, 0.0000],\n",
       "          [0.0000, 0.0000, 0.0000, 0.0000, 0.0000, 0.0000, 0.0000, 0.0000,\n",
       "           0.0000, 0.0000, 0.0000, 0.0000, 0.0000, 0.0000, 0.1765, 0.7294,\n",
       "           0.9922, 0.9922, 0.5882, 0.1059, 0.0000, 0.0000, 0.0000, 0.0000,\n",
       "           0.0000, 0.0000, 0.0000, 0.0000],\n",
       "          [0.0000, 0.0000, 0.0000, 0.0000, 0.0000, 0.0000, 0.0000, 0.0000,\n",
       "           0.0000, 0.0000, 0.0000, 0.0000, 0.0000, 0.0000, 0.0000, 0.0627,\n",
       "           0.3647, 0.9882, 0.9922, 0.7333, 0.0000, 0.0000, 0.0000, 0.0000,\n",
       "           0.0000, 0.0000, 0.0000, 0.0000],\n",
       "          [0.0000, 0.0000, 0.0000, 0.0000, 0.0000, 0.0000, 0.0000, 0.0000,\n",
       "           0.0000, 0.0000, 0.0000, 0.0000, 0.0000, 0.0000, 0.0000, 0.0000,\n",
       "           0.0000, 0.9765, 0.9922, 0.9765, 0.2510, 0.0000, 0.0000, 0.0000,\n",
       "           0.0000, 0.0000, 0.0000, 0.0000],\n",
       "          [0.0000, 0.0000, 0.0000, 0.0000, 0.0000, 0.0000, 0.0000, 0.0000,\n",
       "           0.0000, 0.0000, 0.0000, 0.0000, 0.0000, 0.0000, 0.1804, 0.5098,\n",
       "           0.7176, 0.9922, 0.9922, 0.8118, 0.0078, 0.0000, 0.0000, 0.0000,\n",
       "           0.0000, 0.0000, 0.0000, 0.0000],\n",
       "          [0.0000, 0.0000, 0.0000, 0.0000, 0.0000, 0.0000, 0.0000, 0.0000,\n",
       "           0.0000, 0.0000, 0.0000, 0.0000, 0.1529, 0.5804, 0.8980, 0.9922,\n",
       "           0.9922, 0.9922, 0.9804, 0.7137, 0.0000, 0.0000, 0.0000, 0.0000,\n",
       "           0.0000, 0.0000, 0.0000, 0.0000],\n",
       "          [0.0000, 0.0000, 0.0000, 0.0000, 0.0000, 0.0000, 0.0000, 0.0000,\n",
       "           0.0000, 0.0000, 0.0941, 0.4471, 0.8667, 0.9922, 0.9922, 0.9922,\n",
       "           0.9922, 0.7882, 0.3059, 0.0000, 0.0000, 0.0000, 0.0000, 0.0000,\n",
       "           0.0000, 0.0000, 0.0000, 0.0000],\n",
       "          [0.0000, 0.0000, 0.0000, 0.0000, 0.0000, 0.0000, 0.0000, 0.0000,\n",
       "           0.0902, 0.2588, 0.8353, 0.9922, 0.9922, 0.9922, 0.9922, 0.7765,\n",
       "           0.3176, 0.0078, 0.0000, 0.0000, 0.0000, 0.0000, 0.0000, 0.0000,\n",
       "           0.0000, 0.0000, 0.0000, 0.0000],\n",
       "          [0.0000, 0.0000, 0.0000, 0.0000, 0.0000, 0.0000, 0.0706, 0.6706,\n",
       "           0.8588, 0.9922, 0.9922, 0.9922, 0.9922, 0.7647, 0.3137, 0.0353,\n",
       "           0.0000, 0.0000, 0.0000, 0.0000, 0.0000, 0.0000, 0.0000, 0.0000,\n",
       "           0.0000, 0.0000, 0.0000, 0.0000],\n",
       "          [0.0000, 0.0000, 0.0000, 0.0000, 0.2157, 0.6745, 0.8863, 0.9922,\n",
       "           0.9922, 0.9922, 0.9922, 0.9569, 0.5216, 0.0431, 0.0000, 0.0000,\n",
       "           0.0000, 0.0000, 0.0000, 0.0000, 0.0000, 0.0000, 0.0000, 0.0000,\n",
       "           0.0000, 0.0000, 0.0000, 0.0000],\n",
       "          [0.0000, 0.0000, 0.0000, 0.0000, 0.5333, 0.9922, 0.9922, 0.9922,\n",
       "           0.8314, 0.5294, 0.5176, 0.0627, 0.0000, 0.0000, 0.0000, 0.0000,\n",
       "           0.0000, 0.0000, 0.0000, 0.0000, 0.0000, 0.0000, 0.0000, 0.0000,\n",
       "           0.0000, 0.0000, 0.0000, 0.0000],\n",
       "          [0.0000, 0.0000, 0.0000, 0.0000, 0.0000, 0.0000, 0.0000, 0.0000,\n",
       "           0.0000, 0.0000, 0.0000, 0.0000, 0.0000, 0.0000, 0.0000, 0.0000,\n",
       "           0.0000, 0.0000, 0.0000, 0.0000, 0.0000, 0.0000, 0.0000, 0.0000,\n",
       "           0.0000, 0.0000, 0.0000, 0.0000],\n",
       "          [0.0000, 0.0000, 0.0000, 0.0000, 0.0000, 0.0000, 0.0000, 0.0000,\n",
       "           0.0000, 0.0000, 0.0000, 0.0000, 0.0000, 0.0000, 0.0000, 0.0000,\n",
       "           0.0000, 0.0000, 0.0000, 0.0000, 0.0000, 0.0000, 0.0000, 0.0000,\n",
       "           0.0000, 0.0000, 0.0000, 0.0000],\n",
       "          [0.0000, 0.0000, 0.0000, 0.0000, 0.0000, 0.0000, 0.0000, 0.0000,\n",
       "           0.0000, 0.0000, 0.0000, 0.0000, 0.0000, 0.0000, 0.0000, 0.0000,\n",
       "           0.0000, 0.0000, 0.0000, 0.0000, 0.0000, 0.0000, 0.0000, 0.0000,\n",
       "           0.0000, 0.0000, 0.0000, 0.0000]]]),\n",
       " 5)"
      ]
     },
     "execution_count": 8,
     "metadata": {},
     "output_type": "execute_result"
    }
   ],
   "source": [
    "#观察mnist_train中的元素\n",
    "next(it_mnist_train)#返回一个tuple，包含一张图像以及对应的label"
   ]
  },
  {
   "cell_type": "code",
   "execution_count": 9,
   "id": "0418462a",
   "metadata": {},
   "outputs": [],
   "source": [
    "img,label = next(it_mnist_train)"
   ]
  },
  {
   "cell_type": "code",
   "execution_count": 10,
   "id": "e8c0e08a",
   "metadata": {},
   "outputs": [
    {
     "data": {
      "text/plain": [
       "torch.Size([1, 28, 28])"
      ]
     },
     "execution_count": 10,
     "metadata": {},
     "output_type": "execute_result"
    }
   ],
   "source": [
    "#img是一个1*28*28的张量\n",
    "img.shape"
   ]
  },
  {
   "cell_type": "code",
   "execution_count": 11,
   "id": "de0d73d9",
   "metadata": {},
   "outputs": [
    {
     "data": {
      "image/png": "[encoded data removed]",
      "text/plain": [
       "<Figure size 432x288 with 1 Axes>"
      ]
     },
     "metadata": {
      "needs_background": "light"
     },
     "output_type": "display_data"
    }
   ],
   "source": [
    "plt.imshow(img[0],cmap = 'gray')\n",
    "plt.axis('off')\n",
    "plt.title('Label = %d'%(label))\n",
    "plt.show()"
   ]
  },
  {
   "cell_type": "code",
   "execution_count": 12,
   "id": "945f1100",
   "metadata": {},
   "outputs": [
    {
     "name": "stdout",
     "output_type": "stream",
     "text": [
      "Max =  1.0 ,  Min= 0.0\n"
     ]
    }
   ],
   "source": [
    "#查看样本的取值范围\n",
    "print('Max = ',img.max().item(),',  Min=',img.min().item())"
   ]
  },
  {
   "cell_type": "markdown",
   "id": "72623c99",
   "metadata": {},
   "source": [
    "下面为mnist_train构造一个加载器"
   ]
  },
  {
   "cell_type": "code",
   "execution_count": 13,
   "id": "5e34b2c0",
   "metadata": {},
   "outputs": [],
   "source": [
    "train_loader = torch.utils.data.DataLoader(mnist_train, batch_size = 32, shuffle = True)"
   ]
  },
  {
   "cell_type": "code",
   "execution_count": 14,
   "id": "8c24d6a2",
   "metadata": {},
   "outputs": [],
   "source": [
    "#用加载器加载一批样本\n",
    "images,labels = next(iter(train_loader))"
   ]
  },
  {
   "cell_type": "code",
   "execution_count": 15,
   "id": "ec82fc39",
   "metadata": {},
   "outputs": [
    {
     "data": {
      "text/plain": [
       "torch.Size([32, 1, 28, 28])"
      ]
     },
     "execution_count": 15,
     "metadata": {},
     "output_type": "execute_result"
    }
   ],
   "source": [
    "images.shape"
   ]
  },
  {
   "cell_type": "code",
   "execution_count": 16,
   "id": "8bc12f85",
   "metadata": {},
   "outputs": [
    {
     "data": {
      "text/plain": [
       "torch.Size([32])"
      ]
     },
     "execution_count": 16,
     "metadata": {},
     "output_type": "execute_result"
    }
   ],
   "source": [
    "labels.shape"
   ]
  },
  {
   "cell_type": "markdown",
   "id": "04886708",
   "metadata": {},
   "source": [
    "下面展示这一批样本及其对应的label"
   ]
  },
  {
   "cell_type": "code",
   "execution_count": 17,
   "id": "83e4e051",
   "metadata": {},
   "outputs": [
    {
     "data": {
      "image/png": "[encoded data removed]",
      "text/plain": [
       "<Figure size 1152x648 with 32 Axes>"
      ]
     },
     "metadata": {
      "needs_background": "light"
     },
     "output_type": "display_data"
    }
   ],
   "source": [
    "plt.figure(figsize = (16,9))\n",
    "for k in range(labels.shape[0]):\n",
    "    plt.subplot(4,8,k+1)\n",
    "    plt.imshow(images[k].squeeze(),cmap = 'gray')\n",
    "    plt.axis('off')\n",
    "    plt.title('%d'%(labels[k]))\n",
    "plt.show()"
   ]
  },
  {
   "cell_type": "markdown",
   "id": "195ea40e",
   "metadata": {},
   "source": [
    "# 2. 设计MLP\n",
    "\n",
    "从torch.nn.Module派生一个子类，表示一个MLP;\n",
    "\n",
    "你设计的MLP至少包含两个隐层，输出层神经元数目为10，表示10个不同数字类别\n",
    "\n",
    "注意，网络的输入是$n\\times784$的二维张量，每一行表示一个样本。"
   ]
  },
  {
   "cell_type": "code",
   "execution_count": 18,
   "id": "7c4f906a",
   "metadata": {},
   "outputs": [],
   "source": [
    "#在下面添加代码，实现一个表示多层感知机的类MLP,用于识别MNIST手写体数字\n",
    "class MLP(nn.Module):\n",
    "    def __init__(self, in_features, out_features):\n",
    "        super().__init__() #调用父类的构造函数\n",
    "        #定义对象属性\n",
    "        # 第一个隐层：输入784维，输出512维\n",
    "        self.fc1 = nn.Linear(in_features, 512, bias = True)\n",
    "   \n",
    "        # 第二个隐层：输入512维，输出256维\n",
    "        self.fc2 = nn.Linear(512, 256, bias = True)\n",
    "\n",
    "        # 第三个隐层：输入256维，输出128维\n",
    "        self.fc3 = nn.Linear(256, 128, bias = True)\n",
    "        \n",
    "        # 输出层：输入128维，输出10维，表示10个不同数字类别\n",
    "        self.fc4 = nn.Linear(128, out_features, bias = True)\n",
    "\n",
    "    def forward(self, x):\n",
    "        # 第一个隐层：输入x，输出a1\n",
    "        a1 = F.relu(self.fc1(x))\n",
    "      \n",
    "        # 第二个隐层：输入a1，输出a2\n",
    "        a2 = F.relu(self.fc2(a1))\n",
    "\n",
    "        # 第三个隐层：输入a2，输出a3\n",
    "        a3 = F.relu(self.fc3(a2))\n",
    "        \n",
    "        # 输出层：输入a3，输出y\n",
    "        y = F.softmax(self.fc4(a3), dim = 1)\n",
    "        return y"
   ]
  },
  {
   "cell_type": "code",
   "execution_count": 19,
   "id": "c3558860",
   "metadata": {},
   "outputs": [
    {
     "name": "stdout",
     "output_type": "stream",
     "text": [
      "tensor([[0.0998, 0.1026, 0.0965, 0.0956, 0.0967, 0.1017, 0.1086, 0.0959, 0.0993,\n",
      "         0.1034],\n",
      "        [0.0979, 0.1027, 0.0963, 0.0958, 0.0964, 0.1029, 0.1097, 0.0968, 0.0979,\n",
      "         0.1035],\n",
      "        [0.0991, 0.1022, 0.0981, 0.0957, 0.0962, 0.1013, 0.1081, 0.0988, 0.0967,\n",
      "         0.1038],\n",
      "        [0.1001, 0.1015, 0.0958, 0.0972, 0.0955, 0.1014, 0.1108, 0.0950, 0.0983,\n",
      "         0.1044],\n",
      "        [0.1008, 0.1022, 0.0951, 0.0961, 0.0974, 0.1012, 0.1101, 0.0962, 0.0981,\n",
      "         0.1029],\n",
      "        [0.0992, 0.1017, 0.0957, 0.0959, 0.0973, 0.1026, 0.1102, 0.0967, 0.0978,\n",
      "         0.1029],\n",
      "        [0.0985, 0.1008, 0.0967, 0.0973, 0.0968, 0.1018, 0.1081, 0.0962, 0.0992,\n",
      "         0.1045],\n",
      "        [0.1008, 0.1001, 0.0966, 0.0974, 0.0960, 0.1031, 0.1087, 0.0960, 0.0988,\n",
      "         0.1026],\n",
      "        [0.0980, 0.1010, 0.0957, 0.0964, 0.0969, 0.1023, 0.1107, 0.0955, 0.0984,\n",
      "         0.1051],\n",
      "        [0.0991, 0.1007, 0.0966, 0.0957, 0.0978, 0.1023, 0.1090, 0.0975, 0.0972,\n",
      "         0.1041]], grad_fn=<SoftmaxBackward0>)\n"
     ]
    },
    {
     "data": {
      "text/plain": [
       "MLP(\n",
       "  (fc1): Linear(in_features=784, out_features=512, bias=True)\n",
       "  (fc2): Linear(in_features=512, out_features=256, bias=True)\n",
       "  (fc3): Linear(in_features=256, out_features=128, bias=True)\n",
       "  (fc4): Linear(in_features=128, out_features=10, bias=True)\n",
       ")"
      ]
     },
     "execution_count": 19,
     "metadata": {},
     "output_type": "execute_result"
    }
   ],
   "source": [
    "#测试MLP类\n",
    "X = torch.rand((10,784),dtype = torch.float32)\n",
    "net = MLP(784,10)   #构造MLP类的实例为 net\n",
    "Y = net(X)\n",
    "print(Y)\n",
    "net"
   ]
  },
  {
   "cell_type": "markdown",
   "id": "48badcc1",
   "metadata": {},
   "source": [
    "```nn.Module```的方法parameters(）返回模型中的所有参数张量，named_parameters()返回模型中的参数名称以及对应的参数。请对上面定义的网络模型，调用这两个方法获取它的参数名称和参数大小(Tensor.size()函数)。"
   ]
  },
  {
   "cell_type": "code",
   "execution_count": 20,
   "id": "b512b061",
   "metadata": {},
   "outputs": [
    {
     "data": {
      "text/plain": [
       "<generator object Module.parameters at 0x0000018DBD5E3CF0>"
      ]
     },
     "execution_count": 20,
     "metadata": {},
     "output_type": "execute_result"
    }
   ],
   "source": [
    "net.parameters()#得到一个生成器"
   ]
  },
  {
   "cell_type": "code",
   "execution_count": 21,
   "id": "b1193eea",
   "metadata": {},
   "outputs": [
    {
     "data": {
      "text/plain": [
       "Parameter containing:\n",
       "tensor([[-0.0236, -0.0002,  0.0336,  ..., -0.0101,  0.0078,  0.0024],\n",
       "        [-0.0081, -0.0337,  0.0252,  ...,  0.0276, -0.0214,  0.0039],\n",
       "        [ 0.0220,  0.0275,  0.0309,  ..., -0.0127,  0.0121,  0.0201],\n",
       "        ...,\n",
       "        [-0.0267, -0.0072,  0.0198,  ..., -0.0267,  0.0200,  0.0074],\n",
       "        [ 0.0143,  0.0341, -0.0071,  ...,  0.0209,  0.0243,  0.0044],\n",
       "        [ 0.0325, -0.0070, -0.0119,  ..., -0.0263,  0.0203, -0.0025]],\n",
       "       requires_grad=True)"
      ]
     },
     "execution_count": 21,
     "metadata": {},
     "output_type": "execute_result"
    }
   ],
   "source": [
    "#通过枚举该生成器可以获得每一个参数\n",
    "next(net.parameters())"
   ]
  },
  {
   "cell_type": "code",
   "execution_count": 22,
   "id": "31228169",
   "metadata": {},
   "outputs": [
    {
     "data": {
      "text/plain": [
       "<generator object Module.named_parameters at 0x0000018DBF0114A0>"
      ]
     },
     "execution_count": 22,
     "metadata": {},
     "output_type": "execute_result"
    }
   ],
   "source": [
    "net.named_parameters()#得到一个生成器"
   ]
  },
  {
   "cell_type": "code",
   "execution_count": 23,
   "id": "bb171e1c",
   "metadata": {},
   "outputs": [
    {
     "data": {
      "text/plain": [
       "('fc1.weight',\n",
       " Parameter containing:\n",
       " tensor([[-0.0236, -0.0002,  0.0336,  ..., -0.0101,  0.0078,  0.0024],\n",
       "         [-0.0081, -0.0337,  0.0252,  ...,  0.0276, -0.0214,  0.0039],\n",
       "         [ 0.0220,  0.0275,  0.0309,  ..., -0.0127,  0.0121,  0.0201],\n",
       "         ...,\n",
       "         [-0.0267, -0.0072,  0.0198,  ..., -0.0267,  0.0200,  0.0074],\n",
       "         [ 0.0143,  0.0341, -0.0071,  ...,  0.0209,  0.0243,  0.0044],\n",
       "         [ 0.0325, -0.0070, -0.0119,  ..., -0.0263,  0.0203, -0.0025]],\n",
       "        requires_grad=True))"
      ]
     },
     "execution_count": 23,
     "metadata": {},
     "output_type": "execute_result"
    }
   ],
   "source": [
    "#通过枚举该生成器可以获得每一个参数的名字和张量\n",
    "param = next(net.named_parameters())\n",
    "param"
   ]
  },
  {
   "cell_type": "code",
   "execution_count": 24,
   "id": "f355d2f1",
   "metadata": {},
   "outputs": [
    {
     "data": {
      "text/plain": [
       "torch.nn.parameter.Parameter"
      ]
     },
     "execution_count": 24,
     "metadata": {},
     "output_type": "execute_result"
    }
   ],
   "source": [
    "#param的类型是Parameter\n",
    "param = next(net.parameters())\n",
    "type(param)"
   ]
  },
  {
   "cell_type": "code",
   "execution_count": 25,
   "id": "b7aaaf77",
   "metadata": {},
   "outputs": [
    {
     "data": {
      "text/plain": [
       "tensor([[-0.0236, -0.0002,  0.0336,  ..., -0.0101,  0.0078,  0.0024],\n",
       "        [-0.0081, -0.0337,  0.0252,  ...,  0.0276, -0.0214,  0.0039],\n",
       "        [ 0.0220,  0.0275,  0.0309,  ..., -0.0127,  0.0121,  0.0201],\n",
       "        ...,\n",
       "        [-0.0267, -0.0072,  0.0198,  ..., -0.0267,  0.0200,  0.0074],\n",
       "        [ 0.0143,  0.0341, -0.0071,  ...,  0.0209,  0.0243,  0.0044],\n",
       "        [ 0.0325, -0.0070, -0.0119,  ..., -0.0263,  0.0203, -0.0025]])"
      ]
     },
     "execution_count": 25,
     "metadata": {},
     "output_type": "execute_result"
    }
   ],
   "source": [
    "#Parameter.data是真正存储权重的张量\n",
    "param.data"
   ]
  },
  {
   "cell_type": "code",
   "execution_count": 26,
   "id": "498e5542",
   "metadata": {},
   "outputs": [
    {
     "name": "stdout",
     "output_type": "stream",
     "text": [
      "torch.Size([512, 784])\n",
      "torch.Size([512])\n",
      "torch.Size([256, 512])\n",
      "torch.Size([256])\n",
      "torch.Size([128, 256])\n",
      "torch.Size([128])\n",
      "torch.Size([10, 128])\n",
      "torch.Size([10])\n"
     ]
    }
   ],
   "source": [
    "#使用net.parameters()获取和输出net中的所有参数张量的大小\n",
    "#大约2行代码\n",
    "for param in net.parameters():\n",
    "    print(param.size())"
   ]
  },
  {
   "cell_type": "code",
   "execution_count": 27,
   "id": "778fdcb1",
   "metadata": {},
   "outputs": [
    {
     "name": "stdout",
     "output_type": "stream",
     "text": [
      "fc1.weight      torch.Size([512, 784])\n",
      "fc1.bias        torch.Size([512])\n",
      "fc2.weight      torch.Size([256, 512])\n",
      "fc2.bias        torch.Size([256])\n",
      "fc3.weight      torch.Size([128, 256])\n",
      "fc3.bias        torch.Size([128])\n",
      "fc4.weight      torch.Size([10, 128])\n",
      "fc4.bias        torch.Size([10])\n"
     ]
    }
   ],
   "source": [
    "#使用net.named_parameters()获得net中的所有参数的名字和大小\n",
    "#大约2行代码\n",
    "for name, param in net.named_parameters():\n",
    "    print(name.ljust(15), param.size())"
   ]
  },
  {
   "cell_type": "markdown",
   "id": "02feadaa",
   "metadata": {},
   "source": [
    "```nn.Module```有一个对象属性```_parameters```，使用一个OrderedDict包含了所有参数。可以直接从这个属性获得模型的参数字典"
   ]
  },
  {
   "cell_type": "code",
   "execution_count": 28,
   "id": "85de3ca0",
   "metadata": {},
   "outputs": [
    {
     "data": {
      "text/plain": [
       "OrderedDict()"
      ]
     },
     "execution_count": 28,
     "metadata": {},
     "output_type": "execute_result"
    }
   ],
   "source": [
    "#直接获取MLP中的参数属性_parameters\n",
    "net._parameters"
   ]
  },
  {
   "attachments": {},
   "cell_type": "markdown",
   "id": "e63dbcee",
   "metadata": {},
   "source": [
    "```nn.Module```的成员发给```modules()```和```named_modules()```, 分别返回模型的子模块以及命名子模块"
   ]
  },
  {
   "cell_type": "code",
   "execution_count": 29,
   "id": "2368ec63",
   "metadata": {},
   "outputs": [
    {
     "data": {
      "text/plain": [
       "<generator object Module.modules at 0x0000018DBF011AC0>"
      ]
     },
     "execution_count": 29,
     "metadata": {},
     "output_type": "execute_result"
    }
   ],
   "source": [
    "net.modules()"
   ]
  },
  {
   "cell_type": "code",
   "execution_count": 30,
   "id": "085006e3",
   "metadata": {},
   "outputs": [
    {
     "data": {
      "text/plain": [
       "MLP(\n",
       "  (fc1): Linear(in_features=784, out_features=512, bias=True)\n",
       "  (fc2): Linear(in_features=512, out_features=256, bias=True)\n",
       "  (fc3): Linear(in_features=256, out_features=128, bias=True)\n",
       "  (fc4): Linear(in_features=128, out_features=10, bias=True)\n",
       ")"
      ]
     },
     "execution_count": 30,
     "metadata": {},
     "output_type": "execute_result"
    }
   ],
   "source": [
    "next(net.modules())"
   ]
  },
  {
   "cell_type": "code",
   "execution_count": 31,
   "id": "198ab8c1",
   "metadata": {},
   "outputs": [
    {
     "data": {
      "text/plain": [
       "<generator object Module.named_modules at 0x0000018DBF011DD0>"
      ]
     },
     "execution_count": 31,
     "metadata": {},
     "output_type": "execute_result"
    }
   ],
   "source": [
    "net.named_modules()"
   ]
  },
  {
   "cell_type": "code",
   "execution_count": 32,
   "id": "ec64e9ef",
   "metadata": {},
   "outputs": [
    {
     "data": {
      "text/plain": [
       "('',\n",
       " MLP(\n",
       "   (fc1): Linear(in_features=784, out_features=512, bias=True)\n",
       "   (fc2): Linear(in_features=512, out_features=256, bias=True)\n",
       "   (fc3): Linear(in_features=256, out_features=128, bias=True)\n",
       "   (fc4): Linear(in_features=128, out_features=10, bias=True)\n",
       " ))"
      ]
     },
     "execution_count": 32,
     "metadata": {},
     "output_type": "execute_result"
    }
   ],
   "source": [
    "next(net.named_modules())"
   ]
  },
  {
   "cell_type": "code",
   "execution_count": 33,
   "id": "0b1aeed9",
   "metadata": {},
   "outputs": [
    {
     "name": "stdout",
     "output_type": "stream",
     "text": [
      "MLP(\n",
      "  (fc1): Linear(in_features=784, out_features=512, bias=True)\n",
      "  (fc2): Linear(in_features=512, out_features=256, bias=True)\n",
      "  (fc3): Linear(in_features=256, out_features=128, bias=True)\n",
      "  (fc4): Linear(in_features=128, out_features=10, bias=True)\n",
      ")\n",
      "Linear(in_features=784, out_features=512, bias=True)\n",
      "Linear(in_features=512, out_features=256, bias=True)\n",
      "Linear(in_features=256, out_features=128, bias=True)\n",
      "Linear(in_features=128, out_features=10, bias=True)\n"
     ]
    }
   ],
   "source": [
    "#输出MLP中的子模块:\n",
    "#大约2行代码\n",
    "for mode in net.modules():\n",
    "    print(mode)"
   ]
  },
  {
   "cell_type": "code",
   "execution_count": 34,
   "id": "506974d8",
   "metadata": {},
   "outputs": [
    {
     "name": "stdout",
     "output_type": "stream",
     "text": [
      "('', MLP(\n",
      "  (fc1): Linear(in_features=784, out_features=512, bias=True)\n",
      "  (fc2): Linear(in_features=512, out_features=256, bias=True)\n",
      "  (fc3): Linear(in_features=256, out_features=128, bias=True)\n",
      "  (fc4): Linear(in_features=128, out_features=10, bias=True)\n",
      "))\n",
      "('fc1', Linear(in_features=784, out_features=512, bias=True))\n",
      "('fc2', Linear(in_features=512, out_features=256, bias=True))\n",
      "('fc3', Linear(in_features=256, out_features=128, bias=True))\n",
      "('fc4', Linear(in_features=128, out_features=10, bias=True))\n"
     ]
    }
   ],
   "source": [
    "#获取MLP中的命名子模块\n",
    "#大约2行代码\n",
    "for named_mode in net.named_modules():\n",
    "    print(named_mode)"
   ]
  },
  {
   "cell_type": "markdown",
   "id": "5971e4d6",
   "metadata": {},
   "source": [
    "也可通过```nn.Module```的对象属性```_modules```获得模型的所有子模块。"
   ]
  },
  {
   "cell_type": "code",
   "execution_count": 35,
   "id": "b054e4fb",
   "metadata": {},
   "outputs": [
    {
     "data": {
      "text/plain": [
       "OrderedDict([('fc1', Linear(in_features=784, out_features=512, bias=True)),\n",
       "             ('fc2', Linear(in_features=512, out_features=256, bias=True)),\n",
       "             ('fc3', Linear(in_features=256, out_features=128, bias=True)),\n",
       "             ('fc4', Linear(in_features=128, out_features=10, bias=True))])"
      ]
     },
     "execution_count": 35,
     "metadata": {},
     "output_type": "execute_result"
    }
   ],
   "source": [
    "#直接通过属性_modules获取MLP中的子模块\n",
    "net._modules"
   ]
  },
  {
   "cell_type": "markdown",
   "id": "06e649a4",
   "metadata": {},
   "source": [
    "```net._modules```是一个有序字典，因此可以使用关键字访问字典的元素，关键字是各个子模块的名字。比如'fc1',可以通过'fc1'这个关键字获取对应的子模块:```net_modules['fc1']```."
   ]
  },
  {
   "cell_type": "code",
   "execution_count": 36,
   "id": "16cce248",
   "metadata": {},
   "outputs": [
    {
     "name": "stdout",
     "output_type": "stream",
     "text": [
      "('fc1.weight', Parameter containing:\n",
      "tensor([[-0.0236, -0.0002,  0.0336,  ..., -0.0101,  0.0078,  0.0024],\n",
      "        [-0.0081, -0.0337,  0.0252,  ...,  0.0276, -0.0214,  0.0039],\n",
      "        [ 0.0220,  0.0275,  0.0309,  ..., -0.0127,  0.0121,  0.0201],\n",
      "        ...,\n",
      "        [-0.0267, -0.0072,  0.0198,  ..., -0.0267,  0.0200,  0.0074],\n",
      "        [ 0.0143,  0.0341, -0.0071,  ...,  0.0209,  0.0243,  0.0044],\n",
      "        [ 0.0325, -0.0070, -0.0119,  ..., -0.0263,  0.0203, -0.0025]],\n",
      "       requires_grad=True))\n",
      "======================================================================\n",
      "Parameter containing:\n",
      "tensor([[-0.0236, -0.0002,  0.0336,  ..., -0.0101,  0.0078,  0.0024],\n",
      "        [-0.0081, -0.0337,  0.0252,  ...,  0.0276, -0.0214,  0.0039],\n",
      "        [ 0.0220,  0.0275,  0.0309,  ..., -0.0127,  0.0121,  0.0201],\n",
      "        ...,\n",
      "        [-0.0267, -0.0072,  0.0198,  ..., -0.0267,  0.0200,  0.0074],\n",
      "        [ 0.0143,  0.0341, -0.0071,  ...,  0.0209,  0.0243,  0.0044],\n",
      "        [ 0.0325, -0.0070, -0.0119,  ..., -0.0263,  0.0203, -0.0025]],\n",
      "       requires_grad=True)\n"
     ]
    }
   ],
   "source": [
    "#在下面输出net对象的第一个子模块的'weight'参数\n",
    "#大约一行代码\n",
    "print(next(net.named_parameters())) # 输出fc1.weight参数作对比\n",
    "print(\"{:=^70s}\".format(\"\"))  # 分割线\n",
    "print(net._modules['fc1'].weight) # 输出net对象的第一个子模块的'weight'参数"
   ]
  },
  {
   "cell_type": "markdown",
   "id": "c33e1f41",
   "metadata": {},
   "source": [
    "也可以直接用你在上面的类定义中的对象属性来访问模型中的子模块：比如，你在初始化函数中定义了一个线性层：self.lin = Linear(....)。你可以使用lin这个属性获取这个线性层。\n",
    "\n",
    "```Linear```等网络层都有一个权重参数weight，你可以直接使用net.lin.weight获取到这个参数。"
   ]
  },
  {
   "cell_type": "code",
   "execution_count": 37,
   "id": "76e9f0fa",
   "metadata": {},
   "outputs": [
    {
     "name": "stdout",
     "output_type": "stream",
     "text": [
      "Parameter containing:\n",
      "tensor([[-0.0236, -0.0002,  0.0336,  ..., -0.0101,  0.0078,  0.0024],\n",
      "        [-0.0081, -0.0337,  0.0252,  ...,  0.0276, -0.0214,  0.0039],\n",
      "        [ 0.0220,  0.0275,  0.0309,  ..., -0.0127,  0.0121,  0.0201],\n",
      "        ...,\n",
      "        [-0.0267, -0.0072,  0.0198,  ..., -0.0267,  0.0200,  0.0074],\n",
      "        [ 0.0143,  0.0341, -0.0071,  ...,  0.0209,  0.0243,  0.0044],\n",
      "        [ 0.0325, -0.0070, -0.0119,  ..., -0.0263,  0.0203, -0.0025]],\n",
      "       requires_grad=True)\n"
     ]
    }
   ],
   "source": [
    "#在下面输出net对象的第一层的权重参数\n",
    "#大约一行代码\n",
    "print(net.fc1.weight)"
   ]
  },
  {
   "cell_type": "markdown",
   "id": "c05a0a95",
   "metadata": {},
   "source": [
    "# 3.训练模型"
   ]
  },
  {
   "cell_type": "markdown",
   "id": "2cd2652a",
   "metadata": {},
   "source": [
    "# 3.1 第一步，对数据做预处理\n",
    "\n",
    "MNIST图像的像素取值范围是[0,1]，先把值域改变为[-1,1]. 在PyTorch中，可以使用torchvision.transforms.Normalize类处理。"
   ]
  },
  {
   "cell_type": "code",
   "execution_count": 38,
   "id": "35bf287b",
   "metadata": {},
   "outputs": [],
   "source": [
    "from torchvision.transforms import Normalize as normalize"
   ]
  },
  {
   "cell_type": "code",
   "execution_count": 39,
   "id": "b3ad9532",
   "metadata": {},
   "outputs": [
    {
     "data": {
      "text/plain": [
       "(tensor(0.), tensor(1.))"
      ]
     },
     "execution_count": 39,
     "metadata": {},
     "output_type": "execute_result"
    }
   ],
   "source": [
    "#查看img的最大最小值：\n",
    "img.min(),img.max()"
   ]
  },
  {
   "cell_type": "code",
   "execution_count": 40,
   "id": "d69cab45",
   "metadata": {},
   "outputs": [],
   "source": [
    "#构造一个图像归一化对象normalizer，将图像像素值归一化到[-1,1]区间\n",
    "#一行代码\n",
    "normalizer = normalize(0.5,0.5)"
   ]
  },
  {
   "cell_type": "code",
   "execution_count": 41,
   "id": "2e4662e6",
   "metadata": {},
   "outputs": [
    {
     "data": {
      "text/plain": [
       "(tensor(-1.), tensor(1.))"
      ]
     },
     "execution_count": 41,
     "metadata": {},
     "output_type": "execute_result"
    }
   ],
   "source": [
    "#测试normalizer\n",
    "normalized_img = normalizer(img)\n",
    "normalized_img.min(),normalized_img.max()"
   ]
  },
  {
   "cell_type": "markdown",
   "id": "09b760c9",
   "metadata": {},
   "source": [
    "# 3.2 第二步，构造训练集，加入预处理"
   ]
  },
  {
   "cell_type": "code",
   "execution_count": 42,
   "id": "bdfffe8b",
   "metadata": {},
   "outputs": [],
   "source": [
    "data_path = '../data/'\n",
    "mnist_train = datasets.MNIST(data_path,download=False,train = True,transform = transforms.Compose([transforms.ToTensor(),normalizer]))\n",
    "mnist_test =  datasets.MNIST(data_path,download=False,train = False,transform = transforms.Compose([transforms.ToTensor(),normalizer]))"
   ]
  },
  {
   "cell_type": "markdown",
   "id": "c3bc299c",
   "metadata": {},
   "source": [
    "# 3.3 第三步，构造加载器"
   ]
  },
  {
   "cell_type": "code",
   "execution_count": 43,
   "id": "cc2be185",
   "metadata": {},
   "outputs": [],
   "source": [
    "train_loader = torch.utils.data.DataLoader(mnist_train, batch_size = 32, shuffle = True)\n",
    "test_loader = torch.utils.data.DataLoader(mnist_test, batch_size = 32, shuffle = False)"
   ]
  },
  {
   "cell_type": "markdown",
   "id": "e83cab93",
   "metadata": {},
   "source": [
    "# 3.4 第四步，训练模型"
   ]
  },
  {
   "cell_type": "markdown",
   "id": "3440524d",
   "metadata": {},
   "source": [
    "训练模型的过程包含两层循环，第一层是轮次(epoch)循环，每一次循环遍历一次整个训练样本集；第二层是小批次循环，每一次循环从加载器中加载一个小批次样本，用于训练模型，完成一次迭代。\n",
    "\n",
    "一次迭代包含以下步骤：\n",
    "1. 梯度清零。调用优化器的zero_grad()函数\n",
    "2. 前向传播。调用模型对当前批次的样本做预测\n",
    "3. 计算损失。根据预测结果与真实label计算损失\n",
    "4. 后向传播。调用损失张量的backward()函数，更新模型权重的梯度\n",
    "5. 梯度下降。调用优化器的step()函数，更新权重参数。"
   ]
  },
  {
   "cell_type": "code",
   "execution_count": 44,
   "id": "3d2d6f90",
   "metadata": {},
   "outputs": [],
   "source": [
    "#请在下面定义一个训练模型的函数Train:\n",
    "\n",
    "def Train(model, loader, epochs, lr = 0.1):\n",
    "\n",
    "    '''\n",
    "        参数说明：\n",
    "        model:模型对象；\n",
    "        loader：样本加载器;\n",
    "        epochs：轮次;\n",
    "        lr：学习率\n",
    "    '''\n",
    "    epsilon = 1e-6#损失收敛条件\n",
    "    \n",
    "    #首先调用模型的train函数，进入train模式\n",
    "    model.train()\n",
    "    \n",
    "    #在下面定义优化器\n",
    "    optimizer = optim.SGD(model.parameters(), lr=lr) #请用一行代码实现\n",
    "    \n",
    "    #在下面定义损失函数（交叉熵损失）:\n",
    "    loss = nn.CrossEntropyLoss()#请用一行代码实现\n",
    "    \n",
    "    loss0 = 0\n",
    "    for epoch in range(epochs):\n",
    "        for it,(imgs, labels) in enumerate(loader):\n",
    "            #1. zero_grads\n",
    "            #请用一行代码实现\n",
    "            optimizer.zero_grad()\n",
    "            \n",
    "            #2. F.P.前向传播\n",
    "            #请用一行代码实现\n",
    "            # torch.Size([32, 1, 28, 28]) -> 32张 1通道 28*28尺寸的图片 使用view将其转换成1*784的张量\n",
    "            # imgs.shape[0] = 32    imgs.shape[1] = 1   imgs.shape[2] = 28  imgs.shape[3] = 28 \n",
    "            logits = model.forward(imgs.view(imgs.shape[0],28*28))\n",
    "\n",
    "            #3. 计算损失\n",
    "            #请用一行代码实现            \n",
    "            loss1 = loss(logits, labels)\n",
    "            \n",
    "            if(abs(loss1.item() - loss0) < epsilon):\n",
    "                break\n",
    "                \n",
    "            loss0 = loss1.item()\n",
    "                \n",
    "            if it%100==0:\n",
    "                print('epoch %d, iter %d, loss = %f\\n'%(epoch,it,loss1.item()))\n",
    "\n",
    "                \n",
    "            #4. 后向传播\n",
    "            #请用一行代码实现\n",
    "            loss1.backward()\n",
    "            \n",
    "            #5. 梯度下降\n",
    "            #请用一行代码实现.\n",
    "            optimizer.step()\n",
    "\n",
    "    return model            "
   ]
  },
  {
   "cell_type": "code",
   "execution_count": 45,
   "id": "309b7f8e",
   "metadata": {},
   "outputs": [
    {
     "name": "stdout",
     "output_type": "stream",
     "text": [
      "epoch 0, iter 0, loss = 2.302680\n",
      "\n",
      "epoch 0, iter 100, loss = 2.297065\n",
      "\n",
      "epoch 0, iter 200, loss = 2.263885\n",
      "\n",
      "epoch 0, iter 300, loss = 2.112843\n",
      "\n",
      "epoch 1, iter 0, loss = 2.008784\n",
      "\n",
      "epoch 1, iter 100, loss = 1.876787\n",
      "\n",
      "epoch 1, iter 200, loss = 1.864071\n",
      "\n",
      "epoch 1, iter 300, loss = 1.712341\n",
      "\n",
      "epoch 2, iter 0, loss = 1.656668\n",
      "\n",
      "epoch 2, iter 100, loss = 1.634249\n",
      "\n",
      "epoch 2, iter 200, loss = 1.586948\n",
      "\n",
      "epoch 2, iter 300, loss = 1.642423\n",
      "\n",
      "epoch 3, iter 0, loss = 1.545059\n",
      "\n",
      "epoch 3, iter 100, loss = 1.570377\n",
      "\n",
      "epoch 3, iter 200, loss = 1.547140\n",
      "\n",
      "epoch 3, iter 300, loss = 1.549991\n",
      "\n",
      "epoch 4, iter 0, loss = 1.510863\n",
      "\n",
      "epoch 4, iter 100, loss = 1.552506\n",
      "\n",
      "epoch 4, iter 200, loss = 1.585409\n",
      "\n",
      "epoch 4, iter 300, loss = 1.541231\n",
      "\n",
      "epoch 5, iter 0, loss = 1.495986\n",
      "\n",
      "epoch 5, iter 100, loss = 1.542067\n",
      "\n",
      "epoch 5, iter 200, loss = 1.594581\n",
      "\n",
      "epoch 5, iter 300, loss = 1.537476\n",
      "\n",
      "epoch 6, iter 0, loss = 1.523059\n",
      "\n",
      "epoch 6, iter 100, loss = 1.548705\n",
      "\n",
      "epoch 6, iter 200, loss = 1.564089\n",
      "\n",
      "epoch 6, iter 300, loss = 1.532045\n",
      "\n",
      "epoch 7, iter 0, loss = 1.514630\n",
      "\n",
      "epoch 7, iter 100, loss = 1.519212\n",
      "\n",
      "epoch 7, iter 200, loss = 1.551844\n",
      "\n",
      "epoch 7, iter 300, loss = 1.579971\n",
      "\n",
      "epoch 8, iter 0, loss = 1.492908\n",
      "\n",
      "epoch 8, iter 100, loss = 1.574579\n",
      "\n",
      "epoch 8, iter 200, loss = 1.538188\n",
      "\n",
      "epoch 8, iter 300, loss = 1.527763\n",
      "\n",
      "epoch 9, iter 0, loss = 1.526088\n",
      "\n",
      "epoch 9, iter 100, loss = 1.535488\n",
      "\n",
      "epoch 9, iter 200, loss = 1.644523\n",
      "\n",
      "epoch 9, iter 300, loss = 1.543243\n",
      "\n"
     ]
    }
   ],
   "source": [
    "#训练模型\n",
    "\n",
    "model = MLP(784, 10)\n",
    "#为了尽快训练模型，这里使用测试集训练10轮，你可以修改轮次和学习率\n",
    "\n",
    "model = Train(model, test_loader, 10, 0.1)\n"
   ]
  },
  {
   "cell_type": "markdown",
   "id": "c952715b",
   "metadata": {},
   "source": [
    "# 3.5 第五步，测试模型"
   ]
  },
  {
   "cell_type": "markdown",
   "id": "8b19aeae",
   "metadata": {},
   "source": [
    "请编写一个用于评估模型分类准确率的函数Evaluate。使用给定的数据加载器，对模型的预测结果与真实label进行比对，计算出模型的准确率。"
   ]
  },
  {
   "cell_type": "code",
   "execution_count": 46,
   "id": "6dd24d32",
   "metadata": {},
   "outputs": [],
   "source": [
    "#编写模型测试过程\n",
    "def Evaluate(model, loader):\n",
    "    '''\n",
    "    参数说明：\n",
    "    model:待测试的模型\n",
    "    loader：数据加载器\n",
    "    返回值为模型的预测准确率\n",
    "    '''\n",
    "    #进入评估模式:\n",
    "    #一行代码\n",
    "    model.eval()\n",
    "    \n",
    "    \n",
    "    correct = 0#用于累加每一次循环中预测的正确样本数\n",
    "    counts = 0#用于累加参与测试的样本总数\n",
    "    \n",
    "    #在下面编写代码，从loader中加载样本，使用model预测，然后统计预测正确的样本数量\n",
    "    with torch.no_grad():\n",
    "        for imgs, labels in test_loader:\n",
    "            batch_size = imgs.shape[0]\n",
    "            logits = model(imgs.view(batch_size, -1))\n",
    "            _, predicted = torch.max(logits.data, dim = 1)\n",
    "            counts += batch_size\n",
    "            correct += (predicted == labels).sum().item()\n",
    "    \n",
    "    #计算准确率\n",
    "    accuracy = correct / counts\n",
    "    \n",
    "    return accuracy"
   ]
  },
  {
   "cell_type": "code",
   "execution_count": 47,
   "id": "00a5d299",
   "metadata": {},
   "outputs": [
    {
     "name": "stdout",
     "output_type": "stream",
     "text": [
      "Accuracy = 0.930700\n"
     ]
    }
   ],
   "source": [
    "#使用test_loader评估模型的准确率\n",
    "acc = Evaluate(model,test_loader)\n",
    "print('Accuracy = %f'%(acc))"
   ]
  },
  {
   "cell_type": "code",
   "execution_count": 48,
   "id": "9d12f859",
   "metadata": {},
   "outputs": [
    {
     "data": {
      "image/png": "[encoded data removed]",
      "text/plain": [
       "<Figure size 1152x720 with 32 Axes>"
      ]
     },
     "metadata": {
      "needs_background": "light"
     },
     "output_type": "display_data"
    }
   ],
   "source": [
    "#展示预测结果实例\n",
    "\n",
    "imgs,labels  = next(iter(test_loader))\n",
    "\n",
    "logits = model(imgs.view(imgs.size(0),-1))\n",
    "yhat = logits.argmax(dim = 1)\n",
    "\n",
    "plt.figure(figsize = (16,10))\n",
    "for i in range(imgs.size(0)):\n",
    "    plt.subplot(4,8,i+1)\n",
    "    plt.imshow(imgs[i].squeeze()/2+0.5,cmap = 'gray')\n",
    "    plt.axis('off')\n",
    "    plt.title('GT=%d, Pred = %d'%(labels[i],yhat[i]))\n",
    "    \n",
    "plt.show()"
   ]
  },
  {
   "cell_type": "markdown",
   "id": "d9d8b41c",
   "metadata": {},
   "source": [
    "# 4. 可视化模型（选做）"
   ]
  },
  {
   "cell_type": "markdown",
   "id": "0d18cd77",
   "metadata": {},
   "source": [
    "## 4.1 展示第一层神经元权重\n",
    "\n",
    "你可以把上面训练的模型的第一隐层权值向量可视化展示出来，看看这些神经元学到了什么特征？\n",
    "\n",
    "使用上面第2节介绍的模型参数的有关内容，获取模型第一隐层的权重张量，并将每一个神经元的权重(784维向量)转换为28*28大小的矩阵，并归一化到（0，1）范围，便于展示。\n",
    "\n",
    "使用matplotlit.pyplot.imshow函数展示权重图像。\n",
    "\n",
    "可以只选取少量神经元的权重予以展示。"
   ]
  },
  {
   "cell_type": "code",
   "execution_count": 49,
   "id": "65e01851",
   "metadata": {},
   "outputs": [
    {
     "data": {
      "image/png": "[encoded data removed]",
      "text/plain": [
       "<Figure size 864x864 with 36 Axes>"
      ]
     },
     "metadata": {
      "needs_background": "light"
     },
     "output_type": "display_data"
    }
   ],
   "source": [
    "#在下面编写代码获取权重张量并展示出来\n",
    "\n",
    "# 获取模型第一隐层的权重张量\n",
    "weights = model.fc1.weight.data\n",
    "\n",
    "# 选取少量神经元的权重, 选取36个\n",
    "weights = weights[:36]\n",
    "\n",
    "# 将每一个神经元的权重(784维向量)转换为28*28大小的矩阵，并归一化到（0，1）范围\n",
    "weights = weights.view(weights.size(0), 28, 28)\n",
    "weights = weights / weights.max()\n",
    "\n",
    "# 使用matplotlit.pyplot.imshow函数展示权重图像\n",
    "#设置图像尺寸\n",
    "plt.figure(figsize = (12,12)) \n",
    "#遍历神经元\n",
    "for i in range(weights.size(0)):\n",
    "    plt.subplot(6, 6, i + 1)\n",
    "    plt.axis('off')\n",
    "    plt.imshow(weights[i], cmap='gray')\n",
    "    plt.title(i)\n",
    "\n",
    "plt.show()\n"
   ]
  },
  {
   "cell_type": "markdown",
   "id": "d2143cdc",
   "metadata": {},
   "source": [
    "## 4.2 展示隐含层神经元对不同样本的响应\n",
    "\n",
    "假设隐含层包含n个神经元，给定一个输入样本x，这n个神经元的输出构成了该样本的一个特征表达，即n维特征向量。\n",
    "\n",
    "如果你的模型经过训练可以很好的区分不同数字，那么不同类别的样本的这些特征向量应该有很明显的差异。\n",
    "\n",
    "假设你的模型第一个隐层在MLP类中对应的对象属性名为fc1，那么你可以用net.fc1(x)或者x的特征向量。\n",
    "\n",
    "更高层的特征向量参考你编写的forward函数中的写法获取。\n",
    "\n",
    "下面选取少量数字样本，输出你训练的模型中某一个隐含层得到的特征向量。\n",
    "\n",
    "使用matplotlit.pyplot.plot方式把每一个特征向量绘制为一个曲线图。"
   ]
  },
  {
   "cell_type": "code",
   "execution_count": 50,
   "id": "d4a8885b",
   "metadata": {},
   "outputs": [],
   "source": [
    "#在下面编写代码"
   ]
  }
 ],
 "metadata": {
  "kernelspec": {
   "display_name": "My_Torch",
   "language": "python",
   "name": "python3"
  },
  "language_info": {
   "codemirror_mode": {
    "name": "ipython",
    "version": 3
   },
   "file_extension": ".py",
   "mimetype": "text/x-python",
   "name": "python",
   "nbconvert_exporter": "python",
   "pygments_lexer": "ipython3",
   "version": "3.9.15 (main, Nov  4 2022, 16:35:55) [MSC v.1916 64 bit (AMD64)]"
  },
  "vscode": {
   "interpreter": {
    "hash": "3bb1b9170a30f8b8b3f43303ab1db72cc75c30a263a3ca258880608906b0fbee"
   }
  }
 },
 "nbformat": 4,
 "nbformat_minor": 5
}
