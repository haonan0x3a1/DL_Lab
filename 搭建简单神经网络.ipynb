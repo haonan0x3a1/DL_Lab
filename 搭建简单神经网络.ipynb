{
 "cells": [
  {
   "cell_type": "markdown",
   "metadata": {},
   "source": [
    "Markdown 标题：\n",
    "# 这是 H1\n",
    "## 这是 H2\n",
    "### 这是 H3\n",
    "\n",
    "Markdown 列表：\n",
    "- 列表项目\n",
    "1. 列表项目\n",
    "\n",
    "*斜体*或_斜体_\n",
    "**粗体**\n",
    "***加粗斜体***\n",
    "~~删除线~~\n",
    "\n",
    "Markdown 插入链接：\n",
    "[链接文字](链接网址 \"标题\")\n",
    "\n",
    "Markdown 插入图片：\n",
    "![alt text](/path/to/img.jpg \"Title\")\n",
    "\n",
    "\n",
    " ```python\n",
    "    #!/usr/bin/python3\n",
    "    print(\"Hello, World!\")\n",
    "```\n",
    "\n",
    "Markdown 引用：\n",
    "> 引用内容\n"
   ]
  },
  {
   "cell_type": "code",
   "execution_count": 11,
   "metadata": {},
   "outputs": [
    {
     "name": "stdout",
     "output_type": "stream",
     "text": [
      "1\n",
      "0.97\n"
     ]
    }
   ],
   "source": [
    "import numpy as np\n",
    "\n",
    "#样本和参数的定义\n",
    "x1 = np.array(1)\n",
    "x2 = np.array(2)\n",
    "w11, w12, w21, w22 = np.array([1,1,1,-1])\n",
    "print(w11)\n",
    "w1, w2 = np.array([1,-1])\n",
    "b11, b12, b21 = np.array([1,1,1])\n",
    "Y = np.array(2)\n",
    "lr = 0.01\n",
    "\n",
    "#定义relu激活函数\n",
    "def relu(z):\n",
    "    return np.maximum(0,z)\n",
    "\n",
    "#前向传播\n",
    "z1 = w11*x1 + w12*x2 + b11\n",
    "a1 = relu(z1)\n",
    "z2 = w21*x1 + w22*x2 + b12\n",
    "a2 = relu(z2)\n",
    "y = w1*a1 + w2*a2 + b21\n",
    "\n",
    "#求得损失\n",
    "loss = 0.5*(y-Y)**2\n",
    "\n",
    "#求得梯度\n",
    "w11_grad = (y-Y)* w1 * 1 *x1\n",
    "\n",
    "#更新参数\n",
    "w11 = w11 - lr * w11_grad\n",
    "print(w11)"
   ]
  },
  {
   "cell_type": "code",
   "execution_count": null,
   "metadata": {},
   "outputs": [],
   "source": []
  }
 ],
 "metadata": {
  "kernelspec": {
   "display_name": "PotholeDetection",
   "language": "python",
   "name": "python3"
  },
  "language_info": {
   "codemirror_mode": {
    "name": "ipython",
    "version": 3
   },
   "file_extension": ".py",
   "mimetype": "text/x-python",
   "name": "python",
   "nbconvert_exporter": "python",
   "pygments_lexer": "ipython3",
   "version": "3.10.13"
  }
 },
 "nbformat": 4,
 "nbformat_minor": 2
}
