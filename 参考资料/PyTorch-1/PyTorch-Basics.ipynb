{
 "cells": [
  {
   "cell_type": "markdown",
   "metadata": {},
   "source": [
    "# PyTorch:Basics"
   ]
  },
  {
   "cell_type": "markdown",
   "metadata": {},
   "source": [
    "## Tensor"
   ]
  },
  {
   "cell_type": "code",
   "execution_count": 1,
   "metadata": {},
   "outputs": [],
   "source": [
    "import torch"
   ]
  },
  {
   "cell_type": "code",
   "execution_count": 2,
   "metadata": {},
   "outputs": [
    {
     "name": "stdout",
     "output_type": "stream",
     "text": [
      "tensor(1.)\n",
      "0\n",
      "torch.Size([])\n",
      "torch.float32\n",
      "1.0\n"
     ]
    }
   ],
   "source": [
    "a = torch.tensor(1.0)\n",
    "print(a)\n",
    "print(a.dim())\n",
    "print(a.shape)#print(a.size())\n",
    "print(a.dtype)\n",
    "print(a.item())"
   ]
  },
  {
   "cell_type": "code",
   "execution_count": 3,
   "metadata": {},
   "outputs": [
    {
     "name": "stdout",
     "output_type": "stream",
     "text": [
      "tensor([1, 2, 3])\n",
      "1\n",
      "torch.Size([3])\n",
      "torch.int64\n",
      "[1 2 3]\n"
     ]
    }
   ],
   "source": [
    "b = torch.tensor([1,2,3])\n",
    "print(b)\n",
    "print(b.dim())\n",
    "print(b.shape)\n",
    "print(b.dtype)\n",
    "print(b.numpy())"
   ]
  },
  {
   "cell_type": "code",
   "execution_count": 4,
   "metadata": {},
   "outputs": [
    {
     "data": {
      "text/plain": [
       "tensor([0, 1], dtype=torch.int32)"
      ]
     },
     "execution_count": 4,
     "metadata": {},
     "output_type": "execute_result"
    }
   ],
   "source": [
    "import numpy as np\n",
    "\n",
    "x = np.array([0,1])\n",
    "c = torch.from_numpy(x)\n",
    "c"
   ]
  },
  {
   "cell_type": "code",
   "execution_count": 5,
   "metadata": {},
   "outputs": [
    {
     "name": "stdout",
     "output_type": "stream",
     "text": [
      "tensor([[1, 2],\n",
      "        [3, 4],\n",
      "        [5, 6]], dtype=torch.int16)\n",
      "2\n",
      "torch.Size([3, 2])\n",
      "torch.int16\n",
      "[[1 2]\n",
      " [3 4]\n",
      " [5 6]]\n"
     ]
    }
   ],
   "source": [
    "c = torch.tensor([[1,2],[3,4],[5,6]],dtype = torch.int16)\n",
    "print(c)\n",
    "print(c.dim())\n",
    "print(c.shape)\n",
    "print(c.dtype)\n",
    "print(c.numpy())"
   ]
  },
  {
   "cell_type": "code",
   "execution_count": 6,
   "metadata": {},
   "outputs": [
    {
     "name": "stdout",
     "output_type": "stream",
     "text": [
      "tensor([[0., 0., 0., 0.],\n",
      "        [0., 0., 0., 0.],\n",
      "        [0., 0., 0., 0.]])\n"
     ]
    }
   ],
   "source": [
    "d = torch.zeros((3,4))\n",
    "print(d)"
   ]
  },
  {
   "cell_type": "code",
   "execution_count": 7,
   "metadata": {},
   "outputs": [
    {
     "name": "stdout",
     "output_type": "stream",
     "text": [
      "tensor([[[[ 3.4568e-01,  6.0926e-01, -2.8407e+00,  6.9198e-01],\n",
      "          [ 1.9785e-01, -3.5950e-01, -7.4096e-01, -8.7822e-02],\n",
      "          [-1.8936e+00, -1.5445e+00, -1.5313e-01, -1.3686e+00]],\n",
      "\n",
      "         [[ 2.3141e+00, -2.2593e-01,  4.4259e-01, -1.1041e+00],\n",
      "          [ 1.0801e-01, -3.6021e-01,  4.3309e-01, -2.2172e-01],\n",
      "          [ 1.1818e+00,  1.7186e-03,  1.0034e+00,  2.5472e-01]]],\n",
      "\n",
      "\n",
      "        [[[ 1.6120e+00, -8.6260e-01, -4.5354e-01,  1.3883e-01],\n",
      "          [ 2.9553e-02,  1.2198e+00,  1.3018e+00,  8.1123e-02],\n",
      "          [-1.3104e+00,  1.0105e-01,  4.7510e-02, -1.6506e-01]],\n",
      "\n",
      "         [[-5.5756e-01, -2.3901e-01,  1.6148e+00,  8.0101e-02],\n",
      "          [ 1.0832e+00, -1.3870e+00,  4.9780e-01, -1.9438e+00],\n",
      "          [-3.0700e-01,  7.9353e-01, -7.4710e-01,  4.5870e-01]]]])\n"
     ]
    }
   ],
   "source": [
    "e = torch.randn((2,2,3,4))\n",
    "print(e)"
   ]
  },
  {
   "cell_type": "code",
   "execution_count": 8,
   "metadata": {},
   "outputs": [
    {
     "data": {
      "text/plain": [
       "(24, 12, 4, 1)"
      ]
     },
     "execution_count": 8,
     "metadata": {},
     "output_type": "execute_result"
    }
   ],
   "source": [
    "e.stride()"
   ]
  },
  {
   "cell_type": "code",
   "execution_count": 9,
   "metadata": {},
   "outputs": [
    {
     "data": {
      "text/plain": [
       "tensor(1.)"
      ]
     },
     "execution_count": 9,
     "metadata": {},
     "output_type": "execute_result"
    }
   ],
   "source": [
    "a = torch.tensor([1.0,2.0])\n",
    "a[0]"
   ]
  },
  {
   "cell_type": "code",
   "execution_count": 10,
   "metadata": {},
   "outputs": [
    {
     "ename": "ValueError",
     "evalue": "only one element tensors can be converted to Python scalars",
     "output_type": "error",
     "traceback": [
      "\u001b[1;31m---------------------------------------------------------------------------\u001b[0m",
      "\u001b[1;31mValueError\u001b[0m                                Traceback (most recent call last)",
      "Cell \u001b[1;32mIn [10], line 1\u001b[0m\n\u001b[1;32m----> 1\u001b[0m a\u001b[39m.\u001b[39;49mitem()\n",
      "\u001b[1;31mValueError\u001b[0m: only one element tensors can be converted to Python scalars"
     ]
    }
   ],
   "source": [
    "a.item()"
   ]
  },
  {
   "cell_type": "code",
   "execution_count": null,
   "metadata": {},
   "outputs": [],
   "source": [
    "a.numpy()"
   ]
  },
  {
   "cell_type": "code",
   "execution_count": null,
   "metadata": {},
   "outputs": [],
   "source": [
    "b = torch.tensor([[[1,2],[3,4]],\n",
    "                  [[5,6],[7,8]],\n",
    "                  [[9,10],[11,12]]\n",
    "                 ])\n",
    "b.item()"
   ]
  },
  {
   "cell_type": "code",
   "execution_count": null,
   "metadata": {},
   "outputs": [],
   "source": [
    "b[0].shape"
   ]
  },
  {
   "cell_type": "code",
   "execution_count": null,
   "metadata": {},
   "outputs": [],
   "source": [
    "b[0]"
   ]
  },
  {
   "cell_type": "code",
   "execution_count": null,
   "metadata": {},
   "outputs": [],
   "source": [
    "b[:1]"
   ]
  },
  {
   "cell_type": "code",
   "execution_count": null,
   "metadata": {},
   "outputs": [],
   "source": [
    "b[:1].shape"
   ]
  },
  {
   "cell_type": "code",
   "execution_count": null,
   "metadata": {},
   "outputs": [],
   "source": [
    "b[:,0,0]"
   ]
  },
  {
   "cell_type": "code",
   "execution_count": null,
   "metadata": {},
   "outputs": [],
   "source": [
    "b.storage()"
   ]
  },
  {
   "cell_type": "code",
   "execution_count": null,
   "metadata": {},
   "outputs": [],
   "source": [
    "a = torch.ones((3))\n",
    "b = a[:2]\n",
    "print(a)\n",
    "print(b)"
   ]
  },
  {
   "cell_type": "code",
   "execution_count": null,
   "metadata": {},
   "outputs": [],
   "source": [
    "b[0] = 2\n",
    "print(a)\n",
    "print(b)"
   ]
  },
  {
   "cell_type": "code",
   "execution_count": null,
   "metadata": {},
   "outputs": [],
   "source": [
    "c = a[:2].clone()\n",
    "c[0] = 3\n",
    "print(a)\n",
    "print(c)"
   ]
  },
  {
   "cell_type": "code",
   "execution_count": null,
   "metadata": {},
   "outputs": [],
   "source": [
    "a = torch.tensor([[1,2],[3,4]])\n",
    "a"
   ]
  },
  {
   "cell_type": "code",
   "execution_count": null,
   "metadata": {},
   "outputs": [],
   "source": [
    "b = a.transpose(0,1)\n",
    "b"
   ]
  },
  {
   "cell_type": "code",
   "execution_count": null,
   "metadata": {},
   "outputs": [],
   "source": [
    "a = torch.tensor([[[1,2],[3,4]],\n",
    "                  [[5,6],[7,8]],\n",
    "                  [[9,10],[11,12]]\n",
    "                 ])\n",
    "b = a.transpose(0,2)"
   ]
  },
  {
   "cell_type": "code",
   "execution_count": null,
   "metadata": {},
   "outputs": [],
   "source": [
    "b"
   ]
  },
  {
   "cell_type": "code",
   "execution_count": null,
   "metadata": {},
   "outputs": [],
   "source": [
    "print(a.stride())\n",
    "print(b.stride())"
   ]
  },
  {
   "cell_type": "code",
   "execution_count": null,
   "metadata": {},
   "outputs": [],
   "source": [
    "a = torch.tensor([[3,1,2],[4,1,7]])\n",
    "b = a.transpose(0,1)\n",
    "print(a[0,0])\n",
    "b[0,0] = -1\n",
    "print(a[0,0])"
   ]
  },
  {
   "cell_type": "code",
   "execution_count": null,
   "metadata": {},
   "outputs": [],
   "source": [
    "a = torch.tensor([1,2],device = 'cuda')"
   ]
  },
  {
   "cell_type": "code",
   "execution_count": null,
   "metadata": {},
   "outputs": [],
   "source": [
    "a = torch.tensor([[[1,2,3]]])\n",
    "a.size()"
   ]
  },
  {
   "cell_type": "code",
   "execution_count": null,
   "metadata": {},
   "outputs": [],
   "source": [
    "b = a.squeeze(dim=0)\n",
    "b.size()"
   ]
  },
  {
   "cell_type": "code",
   "execution_count": null,
   "metadata": {},
   "outputs": [],
   "source": [
    "c = a.squeeze()\n",
    "c.size()"
   ]
  },
  {
   "cell_type": "code",
   "execution_count": null,
   "metadata": {},
   "outputs": [],
   "source": [
    "d = c.unsqueeze(dim=1)\n",
    "d.size()"
   ]
  },
  {
   "cell_type": "code",
   "execution_count": null,
   "metadata": {},
   "outputs": [],
   "source": [
    "x = torch.randn(2, 3)\n",
    "x1 = torch.cat((x,x),dim = 0)\n",
    "x2 = torch.cat((x,x),dim = 1)"
   ]
  },
  {
   "cell_type": "code",
   "execution_count": null,
   "metadata": {},
   "outputs": [],
   "source": [
    "x"
   ]
  },
  {
   "cell_type": "code",
   "execution_count": null,
   "metadata": {},
   "outputs": [],
   "source": [
    "x1"
   ]
  },
  {
   "cell_type": "code",
   "execution_count": null,
   "metadata": {},
   "outputs": [],
   "source": [
    "x2"
   ]
  },
  {
   "cell_type": "code",
   "execution_count": null,
   "metadata": {},
   "outputs": [],
   "source": [
    "x = torch.randn(1, 3)\n",
    "y = torch.randn(1, 3)\n",
    "z = torch.where(x>y,x,y)"
   ]
  },
  {
   "cell_type": "code",
   "execution_count": null,
   "metadata": {},
   "outputs": [],
   "source": [
    "print('x',x)\n",
    "print('y',y)\n",
    "print('z',z)"
   ]
  },
  {
   "cell_type": "code",
   "execution_count": null,
   "metadata": {},
   "outputs": [],
   "source": [
    "#Broadcasting\n",
    "x = torch.tensor([1,2,3])\n",
    "y = torch.tensor([[-1],[0],[1]])\n",
    "z = torch.ones((2,3,3),dtype = torch.int64)\n",
    "\n",
    "print('x:',x.size())\n",
    "print('y:',y.size())\n",
    "print('z:',z.size())\n",
    "\n",
    "u = x * y\n",
    "v = x * z\n",
    "w = y * z\n",
    "print('u:',u.size())\n",
    "print('v:',v.size())\n",
    "print('w:',w.size())"
   ]
  },
  {
   "cell_type": "code",
   "execution_count": null,
   "metadata": {},
   "outputs": [],
   "source": [
    "print('x:',x)\n",
    "print('y:',y)\n",
    "print('z:',z)"
   ]
  },
  {
   "cell_type": "code",
   "execution_count": null,
   "metadata": {},
   "outputs": [],
   "source": [
    "print('u:',u)\n",
    "print('v:',v)\n",
    "print('w:',w)"
   ]
  },
  {
   "cell_type": "code",
   "execution_count": null,
   "metadata": {},
   "outputs": [],
   "source": [
    "from PIL import Image"
   ]
  },
  {
   "cell_type": "code",
   "execution_count": null,
   "metadata": {},
   "outputs": [],
   "source": [
    "img = np.asarray(Image.open('balloons.jpg'))"
   ]
  },
  {
   "cell_type": "code",
   "execution_count": null,
   "metadata": {},
   "outputs": [],
   "source": [
    "import matplotlib.pyplot as plt\n",
    "\n",
    "plt.imshow(img)\n",
    "plt.show()"
   ]
  },
  {
   "cell_type": "code",
   "execution_count": null,
   "metadata": {},
   "outputs": [],
   "source": [
    "img_tensor = torch.tensor(img).to(dtype = torch.float32)\n",
    "print(img_tensor.size())"
   ]
  },
  {
   "cell_type": "code",
   "execution_count": null,
   "metadata": {},
   "outputs": [],
   "source": [
    "weights = torch.tensor([0.2126,0.7152,0.0722])\n",
    "weights.size()"
   ]
  },
  {
   "cell_type": "code",
   "execution_count": null,
   "metadata": {},
   "outputs": [],
   "source": [
    "gray = torch.sum(weights * img_tensor,dim = 2)\n",
    "gray.size()"
   ]
  },
  {
   "cell_type": "code",
   "execution_count": null,
   "metadata": {},
   "outputs": [],
   "source": [
    "plt.imshow(gray,cmap = 'gray')\n",
    "plt.show()"
   ]
  },
  {
   "cell_type": "code",
   "execution_count": null,
   "metadata": {},
   "outputs": [],
   "source": [
    "img_tensor1 = img_tensor.permute([2,0,1])\n",
    "img_tensor1.size()"
   ]
  },
  {
   "cell_type": "code",
   "execution_count": null,
   "metadata": {},
   "outputs": [],
   "source": [
    "img_r,img_g,img_b = img_tensor1[0],img_tensor1[1],img_tensor1[2]"
   ]
  },
  {
   "cell_type": "code",
   "execution_count": null,
   "metadata": {},
   "outputs": [],
   "source": [
    "fig, (ax1, ax2, ax3) = plt.subplots(1,3)\n",
    "ax1.imshow(img_r.numpy(),cmap='gray'),ax1.axis('off')\n",
    "ax2.imshow(img_g.numpy(),cmap='gray'),ax2.axis('off')\n",
    "ax3.imshow(img_b.numpy(),cmap='gray'),ax3.axis('off')\n",
    "plt.show()"
   ]
  },
  {
   "cell_type": "code",
   "execution_count": null,
   "metadata": {},
   "outputs": [],
   "source": [
    "img_files = ['balloons.jpg','happydog.jfif','sunflower.jpg','Woolsthorpe-Manor.jpg']\n",
    "\n",
    "img_batch = torch.zeros(len(img_files),3,480,640,dtype = torch.uint8)\n",
    "print(img_batch.size())\n",
    "for i,f in enumerate(img_files):\n",
    "    img = np.array(Image.open(f).resize((640,480)))\n",
    "    img_tensor = torch.from_numpy(img)\n",
    "    img_tensor = img_tensor.permute(2,0,1)\n",
    "    img_batch[i] = img_tensor\n",
    "    "
   ]
  },
  {
   "cell_type": "code",
   "execution_count": null,
   "metadata": {},
   "outputs": [],
   "source": [
    "#对图像进行标准化\n",
    "img_batch = img_batch.float() / 255.0\n",
    "mean = torch.tensor([0.485, 0.456, 0.406])\n",
    "std = torch.tensor([0.229, 0.224, 0.225])\n",
    "\n",
    "print('batch:',img_batch.size())\n",
    "print('mean:',mean.size())\n",
    "print('std:',std.size())"
   ]
  },
  {
   "cell_type": "code",
   "execution_count": null,
   "metadata": {},
   "outputs": [],
   "source": [
    "mean_unsqueezed = mean.unsqueeze(dim = 1).unsqueeze(dim=1)\n",
    "std_unsqueezed = std.unsqueeze(dim = 1).unsqueeze(dim = 1)\n",
    "print(mean_unsqueezed.size())"
   ]
  },
  {
   "cell_type": "code",
   "execution_count": null,
   "metadata": {},
   "outputs": [],
   "source": [
    "img_batch_normalized = (img_batch - mean_unsqueezed) / std_unsqueezed"
   ]
  },
  {
   "cell_type": "markdown",
   "metadata": {},
   "source": [
    "## AutoGrad"
   ]
  },
  {
   "cell_type": "code",
   "execution_count": null,
   "metadata": {},
   "outputs": [],
   "source": [
    "x = torch.tensor([1.0])\n",
    "w = torch.tensor([1.0],requires_grad = True)\n",
    "y = w*x"
   ]
  },
  {
   "cell_type": "code",
   "execution_count": null,
   "metadata": {},
   "outputs": [],
   "source": [
    "print(w)"
   ]
  },
  {
   "cell_type": "code",
   "execution_count": null,
   "metadata": {},
   "outputs": [],
   "source": [
    "print(y)"
   ]
  },
  {
   "cell_type": "code",
   "execution_count": null,
   "metadata": {},
   "outputs": [],
   "source": [
    "loss = (y - 2)**2\n",
    "print(loss)"
   ]
  },
  {
   "cell_type": "code",
   "execution_count": null,
   "metadata": {},
   "outputs": [],
   "source": [
    "loss.backward(retain_graph=True)"
   ]
  },
  {
   "cell_type": "code",
   "execution_count": null,
   "metadata": {},
   "outputs": [],
   "source": [
    "w.grad"
   ]
  },
  {
   "cell_type": "code",
   "execution_count": null,
   "metadata": {},
   "outputs": [],
   "source": [
    "with torch.no_grad():\n",
    "    w -= 0.1*w.grad"
   ]
  },
  {
   "cell_type": "code",
   "execution_count": null,
   "metadata": {},
   "outputs": [],
   "source": [
    "print(w)"
   ]
  },
  {
   "cell_type": "code",
   "execution_count": null,
   "metadata": {},
   "outputs": [],
   "source": [
    "print(loss)"
   ]
  },
  {
   "cell_type": "code",
   "execution_count": null,
   "metadata": {},
   "outputs": [],
   "source": [
    "x = torch.tensor([1.0])\n",
    "w = torch.tensor([1.0],requires_grad = True)\n",
    "y = w*x\n",
    "\n",
    "for epoch in range(3):\n",
    "    print('epoch:%d'%(epoch))\n",
    "    if w.grad is not None:\n",
    "        w.grad.zero_()\n",
    "    loss = (y - 2)**2\n",
    "    print(w.grad)\n",
    "    loss.backward(retain_graph=True)\n",
    "    print(w.grad)\n"
   ]
  },
  {
   "cell_type": "code",
   "execution_count": null,
   "metadata": {},
   "outputs": [],
   "source": [
    "#稍微复杂一点的计算图\n",
    "x1 = torch.tensor([0.0],requires_grad = True)\n",
    "x2 = torch.tensor([1.0],requires_grad = True)\n",
    "x3 = torch.tensor([1.0],requires_grad = True)\n",
    "\n",
    "y1 = x1 + x2\n",
    "print('y1:',y1)\n",
    "\n",
    "y2 = x2*x3\n",
    "print('y2:',y2)\n",
    "\n",
    "y3 = torch.tensor([1.0],requires_grad = True)\n",
    "\n",
    "z = y1*y3 + y2\n",
    "print('z:',z)"
   ]
  },
  {
   "cell_type": "code",
   "execution_count": null,
   "metadata": {},
   "outputs": [],
   "source": [
    "z.grad_fn"
   ]
  },
  {
   "cell_type": "markdown",
   "metadata": {},
   "source": [
    "一元线性回归:$y=w\\times x+b$，假设真实的模型为$f(x) = 2\\times x+1$。"
   ]
  },
  {
   "cell_type": "code",
   "execution_count": null,
   "metadata": {},
   "outputs": [],
   "source": [
    "#生成训练数据\n",
    "x = torch.rand(10)*10 - 5 #[-5,5]上的均匀分布随机数\n",
    "y = 2*x + 1 + torch.randn(10) #受随机噪声污染的y\n",
    "\n",
    "plt.plot(x.numpy(),y.numpy(),'*')\n",
    "plt.plot(x.numpy(),2*x.numpy()+1,'r-')\n",
    "plt.show()"
   ]
  },
  {
   "cell_type": "code",
   "execution_count": null,
   "metadata": {},
   "outputs": [],
   "source": [
    "#定义回归模型\n",
    "def linearReg(x,w,b):\n",
    "    y = w * x + b\n",
    "    return y"
   ]
  },
  {
   "cell_type": "code",
   "execution_count": null,
   "metadata": {},
   "outputs": [],
   "source": [
    "#定义损失函数\n",
    "def lossFn(y,y_hat):\n",
    "    squared_errors = (y - y_hat)**2\n",
    "    loss = squared_errors.mean()\n",
    "    return loss"
   ]
  },
  {
   "cell_type": "code",
   "execution_count": null,
   "metadata": {},
   "outputs": [],
   "source": [
    "#定义训练函数\n",
    "def trainModel(x,y,w,b,epochs,lr = 0.1):   \n",
    "    for epoch in range(1, epochs + 1):\n",
    "        if w.grad is not None:\n",
    "            w.grad.zero_()\n",
    "        if b.grad is not None:\n",
    "            b.grad.zero_()\n",
    "            \n",
    "        y_pred = linearReg(x,w,b)\n",
    "        \n",
    "        loss = lossFn(y_pred,y)\n",
    "        \n",
    "        loss.backward()\n",
    "        \n",
    "        with torch.no_grad():\n",
    "            w -= lr * w.grad\n",
    "            b -= lr * b.grad\n",
    "        \n",
    "        print('Epoch = %d, Loss = %f, w = %f,b = %f'%(\n",
    "            epoch,loss.detach().numpy(),w.detach().numpy(),b.detach().numpy()))\n",
    "    return w,b"
   ]
  },
  {
   "cell_type": "code",
   "execution_count": null,
   "metadata": {},
   "outputs": [],
   "source": [
    "#训练模型\n",
    "#初始化参数w,b\n",
    "w = torch.tensor([0.0],requires_grad = True)\n",
    "b = torch.tensor([0.0],requires_grad = True)\n",
    "w,b = trainModel(x,y,w,b,epochs = 10, lr = 0.01)\n",
    "w.requires_grad_ = False\n",
    "b.requires_grad_ = False"
   ]
  },
  {
   "cell_type": "code",
   "execution_count": null,
   "metadata": {},
   "outputs": [],
   "source": [
    "y_pred = linearReg(x,w,b)\n",
    "plt.plot(x.numpy(),y.numpy(),'*')\n",
    "plt.plot(x.numpy(),2*x.numpy()+1,'r-')\n",
    "plt.plot(x.numpy(),y_pred.detach().numpy(),'ko')\n",
    "plt.show()"
   ]
  },
  {
   "cell_type": "code",
   "execution_count": null,
   "metadata": {},
   "outputs": [],
   "source": [
    "#稍微复杂一点的计算图:单隐层神经网络\n",
    "\n",
    "x = torch.tensor([0.0,1.0])\n",
    "w1 = torch.tensor([[0.1,0.1],[0.1,-0.1]],requires_grad = True)\n",
    "b1 = torch.tensor([0.0],requires_grad = True)\n",
    "\n",
    "z = torch.matmul(w1,x)+b1\n",
    "w2 = torch.tensor([-0.3,0.2])\n",
    "b2 = torch.tensor([0.0])\n",
    "\n",
    "y = torch.matmul(w2,z)+b2\n",
    "\n",
    "loss = (y - 1)**2"
   ]
  },
  {
   "cell_type": "code",
   "execution_count": null,
   "metadata": {},
   "outputs": [],
   "source": [
    "loss"
   ]
  },
  {
   "cell_type": "code",
   "execution_count": null,
   "metadata": {},
   "outputs": [],
   "source": [
    "loss.backward()"
   ]
  },
  {
   "cell_type": "code",
   "execution_count": null,
   "metadata": {},
   "outputs": [],
   "source": [
    "print(w2.grad)"
   ]
  },
  {
   "cell_type": "code",
   "execution_count": null,
   "metadata": {},
   "outputs": [],
   "source": [
    "print(w1.grad)"
   ]
  },
  {
   "cell_type": "code",
   "execution_count": null,
   "metadata": {},
   "outputs": [],
   "source": [
    "torch.autograd.grad(loss,w1)"
   ]
  },
  {
   "cell_type": "code",
   "execution_count": null,
   "metadata": {},
   "outputs": [],
   "source": [
    "x = torch.tensor([0.0,1.0])\n",
    "w1 = torch.tensor([[0.1,0.1],[0.1,-0.1]],requires_grad = True)\n",
    "b1 = torch.tensor([0.0],requires_grad = True)\n",
    "\n",
    "z = torch.matmul(w1,x)+b1\n",
    "w2 = torch.tensor([-0.3,0.2])\n",
    "b2 = torch.tensor([0.0])\n",
    "\n",
    "y = torch.matmul(w2,z)+b2\n",
    "\n",
    "loss = (y - 1)**2"
   ]
  },
  {
   "cell_type": "code",
   "execution_count": null,
   "metadata": {},
   "outputs": [],
   "source": [
    "loss.backward(retain_graph = True)"
   ]
  },
  {
   "cell_type": "code",
   "execution_count": null,
   "metadata": {},
   "outputs": [],
   "source": [
    "print(w1.grad)"
   ]
  },
  {
   "cell_type": "code",
   "execution_count": null,
   "metadata": {},
   "outputs": [],
   "source": [
    "torch.autograd.grad(loss,w1)"
   ]
  },
  {
   "cell_type": "code",
   "execution_count": null,
   "metadata": {},
   "outputs": [],
   "source": [
    "#使用torch.optim训练一元线性回归\n",
    "#定义训练函数\n",
    "import torch.optim as optim\n",
    "\n",
    "def trainModel(x,y,w,b,epochs,lr = 0.1):\n",
    "    optimizer = optim.SGD([w,b],lr = lr)\n",
    "    \n",
    "    for epoch in range(1, epochs + 1):\n",
    "#         if w.grad is not None:\n",
    "#             w.grad.zero_()\n",
    "#         if b.grad is not None:\n",
    "#             b.grad.zero_()\n",
    "\n",
    "        optimizer.zero_grad()\n",
    "    \n",
    "        y_pred = linearReg(x,w,b)\n",
    "        \n",
    "        loss = lossFn(y_pred,y)\n",
    "        \n",
    "        loss.backward()\n",
    "        \n",
    "#         with torch.no_grad():\n",
    "#             w -= lr * w.grad\n",
    "#             b -= lr * b.grad\n",
    "        optimizer.step()\n",
    "        \n",
    "        print('Epoch = %d, Loss = %f, w = %f,b = %f'%(\n",
    "            epoch,loss.detach().numpy(),w.detach().numpy(),b.detach().numpy()))\n",
    "    return w,b"
   ]
  },
  {
   "cell_type": "code",
   "execution_count": null,
   "metadata": {},
   "outputs": [],
   "source": [
    "#生成训练数据\n",
    "x = torch.rand(10)*10 - 5 #[-5,5]上的均匀分布随机数\n",
    "y = 2*x + 1 + torch.randn(10) #受随机噪声污染的y\n",
    "\n",
    "plt.plot(x.numpy(),y.numpy(),'*')\n",
    "plt.plot(x.numpy(),2*x.numpy()+1,'r-')\n",
    "plt.show()"
   ]
  },
  {
   "cell_type": "code",
   "execution_count": null,
   "metadata": {},
   "outputs": [],
   "source": [
    "w = torch.tensor([0.0],requires_grad = True)\n",
    "b = torch.tensor([0.0],requires_grad = True)\n",
    "w,b = trainModel(x,y,w,b,epochs = 10, lr = 0.01)\n",
    "y_pred = linearReg(x,w,b)\n",
    "plt.plot(x.numpy(),y.numpy(),'*')\n",
    "plt.plot(x.numpy(),2*x.numpy()+1,'r-')\n",
    "plt.plot(x.numpy(),y_pred.detach().numpy(),'ko')\n",
    "plt.show()"
   ]
  },
  {
   "cell_type": "markdown",
   "metadata": {},
   "source": [
    "## Torch.nn"
   ]
  },
  {
   "cell_type": "code",
   "execution_count": null,
   "metadata": {},
   "outputs": [],
   "source": [
    "import torch.nn as nn    "
   ]
  },
  {
   "cell_type": "code",
   "execution_count": null,
   "metadata": {},
   "outputs": [],
   "source": [
    "linReg = nn.Linear(1,1)"
   ]
  },
  {
   "cell_type": "code",
   "execution_count": null,
   "metadata": {},
   "outputs": [],
   "source": [
    "#生成训练数据\n",
    "x = torch.rand(10)*10 - 5 #[-5,5]上的均匀分布随机数\n",
    "y = 2*x + 1 + torch.randn(10) #受随机噪声污染的y\n",
    "\n",
    "plt.plot(x.numpy(),y.numpy(),'*')\n",
    "plt.plot(x.numpy(),2*x.numpy()+1,'r-')\n",
    "plt.show()"
   ]
  },
  {
   "cell_type": "code",
   "execution_count": null,
   "metadata": {},
   "outputs": [],
   "source": [
    "print(x.shape)"
   ]
  },
  {
   "cell_type": "code",
   "execution_count": null,
   "metadata": {},
   "outputs": [],
   "source": [
    "y_pred = linReg(x.view(10,1))\n",
    "plt.plot(x.numpy(),y.numpy(),'*')\n",
    "plt.plot(x.numpy(),2*x.numpy()+1,'r-')\n",
    "plt.plot(x.numpy(),y_pred.detach().numpy(),'ko')\n",
    "plt.show()"
   ]
  },
  {
   "cell_type": "code",
   "execution_count": null,
   "metadata": {},
   "outputs": [],
   "source": [
    "#训练线性回归\n",
    "linReg = nn.Linear(1,1)\n",
    "\n",
    "loss_fn = nn.MSELoss(reduction='mean')\n",
    "\n",
    "linReg.train()\n",
    "\n",
    "optimizer = optim.SGD(params = linReg.parameters(),lr = 0.1,momentum = 0.9)\n",
    "\n",
    "for epoch in range(10):\n",
    "\n",
    "    optimizer.zero_grad()\n",
    "    \n",
    "    y_pred = linReg(x.view(10,1))  \n",
    "\n",
    "    loss = loss_fn(y_pred, y)\n",
    "\n",
    "    loss.backward()\n",
    "\n",
    "    optimizer.step()\n",
    "\n",
    "    print(\"epoch:\", epoch, \"loss\",loss.data.item())\n",
    "\n",
    "for param in linReg.parameters():\n",
    "    print(param)"
   ]
  },
  {
   "cell_type": "markdown",
   "metadata": {},
   "source": [
    "### Logistic Regression"
   ]
  },
  {
   "cell_type": "code",
   "execution_count": null,
   "metadata": {},
   "outputs": [],
   "source": [
    "import csv\n",
    "def readData(csvfile):\n",
    "    with open(csvfile) as f:\n",
    "        reader = csv.reader(f, delimiter=',')\n",
    "        fields = next(reader)\n",
    "        x = []\n",
    "        y = []\n",
    "        for row in reader:\n",
    "            if '' in row:\n",
    "                continue\n",
    "                \n",
    "            f = [float(v) for v in row[0:-1]]\n",
    "            x.append(f)\n",
    "            y.append(float(row[-1]))\n",
    "        \n",
    "        return np.array(x),np.array(y)"
   ]
  },
  {
   "cell_type": "code",
   "execution_count": null,
   "metadata": {},
   "outputs": [],
   "source": [
    "x_train,y_train = readData('circle-train.csv')\n",
    "\n",
    "print(x_train[0,:])\n",
    "print(y_train.shape)\n",
    "\n",
    "plt.figure()\n",
    "plt.axis('equal')\n",
    "plt.plot(x_train[y_train==0,0],x_train[y_train==0,1],'r*')\n",
    "plt.plot(x_train[y_train==1,0],x_train[y_train==1,1],'ko')\n",
    "plt.show()"
   ]
  },
  {
   "cell_type": "code",
   "execution_count": null,
   "metadata": {},
   "outputs": [],
   "source": [
    "x = torch.tensor(x_train,dtype = torch.float32)\n",
    "y = torch.tensor(y_train[:,np.newaxis],dtype = torch.float)\n",
    "\n",
    "logReg = nn.Linear(2,1)\n",
    "loss_fn = nn.BCEWithLogitsLoss()\n",
    "\n",
    "logReg.train()\n",
    "\n",
    "optimizer = optim.SGD(params = logReg.parameters(),lr = 0.1,momentum = 0.9)\n",
    "\n",
    "for epoch in range(10):\n",
    "\n",
    "    optimizer.zero_grad()\n",
    "    \n",
    "    y_pred = logReg(x) \n",
    "\n",
    "    loss = loss_fn(y_pred, y)\n",
    "\n",
    "    loss.backward()\n",
    "\n",
    "    optimizer.step()\n",
    "\n",
    "    print(\"epoch:\", epoch, \"loss\",loss.data.item())\n",
    "\n",
    "for param in logReg.parameters():\n",
    "    print(param)"
   ]
  },
  {
   "cell_type": "markdown",
   "metadata": {},
   "source": [
    "### MNIST"
   ]
  },
  {
   "cell_type": "code",
   "execution_count": null,
   "metadata": {},
   "outputs": [],
   "source": [
    "from torchvision import datasets,transforms\n",
    "\n",
    "data_path = '../data/'\n",
    "mnist_train = datasets.MNIST(data_path,download=True,train = True,transform = transforms.ToTensor())\n",
    "mnist_test =  datasets.MNIST(data_path,download=True,train = False,transform = transforms.ToTensor())"
   ]
  },
  {
   "cell_type": "code",
   "execution_count": null,
   "metadata": {},
   "outputs": [],
   "source": [
    "len(mnist_test)"
   ]
  },
  {
   "cell_type": "code",
   "execution_count": null,
   "metadata": {},
   "outputs": [],
   "source": [
    "img,label = mnist_train[0]"
   ]
  },
  {
   "cell_type": "code",
   "execution_count": null,
   "metadata": {},
   "outputs": [],
   "source": [
    "img.shape"
   ]
  },
  {
   "cell_type": "code",
   "execution_count": null,
   "metadata": {},
   "outputs": [],
   "source": [
    "label.data"
   ]
  },
  {
   "cell_type": "code",
   "execution_count": null,
   "metadata": {},
   "outputs": [],
   "source": [
    "img = img.view(-1)\n",
    "img.shape"
   ]
  },
  {
   "cell_type": "code",
   "execution_count": null,
   "metadata": {},
   "outputs": [],
   "source": [
    "img.max()"
   ]
  },
  {
   "cell_type": "code",
   "execution_count": null,
   "metadata": {},
   "outputs": [],
   "source": [
    "train_loader = torch.utils.data.DataLoader(mnist_train, batch_size = 32, shuffle = True)"
   ]
  },
  {
   "cell_type": "code",
   "execution_count": null,
   "metadata": {},
   "outputs": [],
   "source": [
    "#MLP\n",
    "mnist_mlp = nn.Sequential(nn.Linear(784,64),\n",
    "                         nn.Sigmoid(),\n",
    "                         nn.Linear(64,10),\n",
    "                         nn.Softmax(dim = 1))\n",
    "\n",
    "optimizer = optim.SGD(mnist_mlp.parameters(), lr = 0.01)\n",
    "\n",
    "loss_fn = nn.CrossEntropyLoss()\n",
    "\n",
    "epochs = 10\n",
    "mnist_mlp.train()\n",
    "for epoch in range(epochs):\n",
    "    for imgs, labels in train_loader:\n",
    "        batch_size = imgs.shape[0]\n",
    "        prob = mnist_mlp(imgs.view(batch_size,-1))\n",
    "        loss = loss_fn(prob,labels)\n",
    "        optimizer.zero_grad()\n",
    "        loss.backward()\n",
    "        optimizer.step()\n",
    "        \n",
    "    print('Epoch:%d, Loss:%f'%(epoch,loss.detach().numpy()))"
   ]
  },
  {
   "cell_type": "code",
   "execution_count": null,
   "metadata": {},
   "outputs": [],
   "source": [
    "#测试模型\n",
    "test_loader = torch.utils.data.DataLoader(mnist_test, batch_size = 100, shuffle = False)\n",
    "mnist_mlp.eval()\n",
    "correct = 0\n",
    "total = 0\n",
    "with torch.no_grad():\n",
    "    for imgs,labels in test_loader:\n",
    "        batch_size = imgs.shape[0]\n",
    "        prob = mnist_mlp(imgs.view(batch_size,-1))\n",
    "        _,predicted = torch.max(prob.data,1)\n",
    "        total += batch_size\n",
    "        correct += (predicted == labels).sum().item()\n",
    "        \n",
    "acc = correct / total\n",
    "\n",
    "print('acc:',acc)"
   ]
  }
 ],
 "metadata": {
  "kernelspec": {
   "display_name": "Python 3.9.15 ('My_Torch')",
   "language": "python",
   "name": "python3"
  },
  "language_info": {
   "codemirror_mode": {
    "name": "ipython",
    "version": 3
   },
   "file_extension": ".py",
   "mimetype": "text/x-python",
   "name": "python",
   "nbconvert_exporter": "python",
   "pygments_lexer": "ipython3",
   "version": "3.9.15"
  },
  "vscode": {
   "interpreter": {
    "hash": "3bb1b9170a30f8b8b3f43303ab1db72cc75c30a263a3ca258880608906b0fbee"
   }
  }
 },
 "nbformat": 4,
 "nbformat_minor": 2
}
